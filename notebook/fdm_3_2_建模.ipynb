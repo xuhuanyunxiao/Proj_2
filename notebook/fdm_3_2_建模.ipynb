{
 "cells": [
  {
   "cell_type": "markdown",
   "metadata": {},
   "source": [
    "# 基本设置"
   ]
  },
  {
   "cell_type": "code",
   "execution_count": 1,
   "metadata": {
    "ExecuteTime": {
     "end_time": "2018-04-16T09:44:52.823886Z",
     "start_time": "2018-04-16T09:44:46.612531Z"
    },
    "collapsed": true
   },
   "outputs": [],
   "source": [
    "import os\n",
    "import re\n",
    "import sys\n",
    "import pickle\n",
    "import datetime as dt\n",
    "\n",
    "today = dt.datetime.now().strftime('%Y%m%d')\n",
    "names = locals()\n",
    "\n",
    "import numpy as np\n",
    "import warnings\n",
    "warnings.filterwarnings('ignore') # 为了整洁，去除弹出的warnings\n",
    "\n",
    "import pandas as pd\n",
    "pd.set_option('display.max_colwidth',1000) # 显示列数\n",
    "pd.set_option('precision', 3) # 设置精度\n",
    "pd.set_option('display.float_format', lambda x:'%.3f' %x) # 不采用科学计数法显示\n",
    "\n",
    "import seaborn as sns\n",
    "import matplotlib as mpl\n",
    "import matplotlib.pyplot as plt\n",
    "import matplotlib.colors as colors\n",
    "import matplotlib.gridspec as gridspec\n",
    "from matplotlib.artist import setp\n",
    "%matplotlib inline\n",
    "\n",
    "from sklearn import preprocessing\n",
    "from sklearn import feature_selection\n",
    "from sklearn.model_selection import train_test_split\n",
    "from sklearn import linear_model\n",
    "from sklearn import svm\n",
    "from sklearn import naive_bayes\n",
    "from sklearn import tree\n",
    "from sklearn import ensemble\n",
    "\n",
    "from sklearn import metrics\n",
    "\n",
    "from quilt.data.ResidentMario import missingno_data\n",
    "import missingno as msno\n",
    "\n",
    "pyfile_folder = r'D:\\XH\\Python_Project\\Proj_2\\files'\n",
    "data_folder = r'D:\\XH\\Python_Project\\Proj_2\\data\\ETL_data'\n",
    "result_folder = r'D:\\XH\\Python_Project\\Proj_2\\result\\ETL_result'\n",
    "\n",
    "os.chdir(pyfile_folder)\n",
    "sys.path.append(pyfile_folder)\n",
    "\n",
    "from Tookits import specific_func  \n",
    "from Tookits import cal_func\n",
    "\n",
    "specific_func.set_ch()"
   ]
  },
  {
   "cell_type": "markdown",
   "metadata": {},
   "source": [
    "## 一些函数"
   ]
  },
  {
   "cell_type": "code",
   "execution_count": 2,
   "metadata": {
    "ExecuteTime": {
     "end_time": "2018-04-16T09:44:52.899891Z",
     "start_time": "2018-04-16T09:44:52.831887Z"
    },
    "collapsed": true
   },
   "outputs": [],
   "source": [
    "def plot_color_table(data, fontsize = 10):\n",
    "    '''\n",
    "    显示带颜色的表格\n",
    "    data： DataFrame\n",
    "    '''\n",
    "    vals = np.around(data.values,3)\n",
    "    normal = colors.Normalize(vals.min()-1, vals.max()+1)\n",
    "    \n",
    "    fig = plt.figure()\n",
    "    ax = fig.add_subplot(111, frameon=True, xticks=[], yticks=[])\n",
    "    ax.spines['top'].set_visible(False) #去掉上边框\n",
    "    ax.spines['bottom'].set_visible(False) #去掉下边框\n",
    "    ax.spines['left'].set_visible(False) #去掉左边框\n",
    "    ax.spines['right'].set_visible(False) #去掉右边框\n",
    "    \n",
    "    the_table=plt.table(cellText=vals, cellLoc='center', \n",
    "                        cellColours=plt.cm.Blues(normal(vals)), \n",
    "                        rowLabels=data.index,  rowColours=None, rowLoc='left', \n",
    "                        colLabels=data.columns,colColours=None, colLoc='center', \n",
    "                        colWidths = None, \n",
    "                        loc='center', bbox=[0, 0, int(data.shape[1]/5) + 1, \n",
    "                                            int(data.shape[0]/5) + 1] )  \n",
    "                                        # [left, bottom, width, height]\\\n",
    "    the_table.auto_set_font_size(False)\n",
    "    the_table.set_fontsize(fontsize)"
   ]
  },
  {
   "cell_type": "code",
   "execution_count": 3,
   "metadata": {
    "ExecuteTime": {
     "end_time": "2018-04-16T09:44:53.046899Z",
     "start_time": "2018-04-16T09:44:52.904891Z"
    },
    "collapsed": true
   },
   "outputs": [],
   "source": [
    "# 无序：Encoding categorical \n",
    "def categorical_encode(col_list, data, \n",
    "                       one_hot = False, \n",
    "                       cat_encode_filepath = os.getcwd(), \n",
    "                       old_cat_encode = None, \n",
    "                       update_cat_encode = False):\n",
    "    cat_encode = {}  # 存储编码，以为后用 {'col': {'EEEEE': 0, '非特殊区域': 1}}\n",
    "    \n",
    "    for index, col in enumerate(col_list):\n",
    "        print('* %d'%index, '  -- %s'%col)\n",
    "        if one_hot:\n",
    "            dummy_data = pd.get_dummies(data[col], prefix = col, dummy_na = True)\n",
    "            data = data.join(dummy_data)\n",
    "            \n",
    "        else :\n",
    "            # 空值填充\n",
    "            data[col] = data[col].fillna('EEEEE').astype(str)\n",
    "\n",
    "            # 考虑类别标签复用\n",
    "            if old_cat_encode:\n",
    "                label_mapping = old_cat_encode[col]\n",
    "                # 如果新数据多出标签\n",
    "                if list(np.unique(data[col])) != list(label_mapping.keys()):\n",
    "                    print('  -- %s  在新数据中有多出类别'%col)\n",
    "                    if update_cat_encode: # 更新标签\n",
    "                        label_mapping = {label:idx for idx,label in enumerate(np.unique(data[col]))}\n",
    "            else :\n",
    "                label_mapping = {label:idx for idx,label in enumerate(np.unique(data[col]))}\n",
    "                # inv_label_mapping = {v:k for k,v in label_mapping.items()}  ## 还原  \n",
    "\n",
    "            cat_encode['%s'%col] = label_mapping        \n",
    "            data[\"label_\" + col] = data[col].map(label_mapping)        \n",
    "            # 空值还原\n",
    "            data[\"label_\" + col] = data[\"label_\" + col].replace(label_mapping['EEEEE'], np.nan)        \n",
    "        \n",
    "        data = data.drop(col, axis = 1)\n",
    "    \n",
    "    # 保存为二进制文件\n",
    "    save_filename = cat_encode_filepath + '\\\\fdm_无序标签.pkl'\n",
    "    pickle.dump(data,open('save_filename','wb')) \n",
    "\n",
    "    return data"
   ]
  },
  {
   "cell_type": "markdown",
   "metadata": {},
   "source": [
    "# 导入企业评分数据集"
   ]
  },
  {
   "cell_type": "markdown",
   "metadata": {},
   "source": [
    "## Y变量导入"
   ]
  },
  {
   "cell_type": "code",
   "execution_count": 4,
   "metadata": {
    "ExecuteTime": {
     "end_time": "2018-04-16T09:44:53.316915Z",
     "start_time": "2018-04-16T09:44:53.053900Z"
    }
   },
   "outputs": [
    {
     "name": "stdout",
     "output_type": "stream",
     "text": [
      "(2260, 4)\n"
     ]
    },
    {
     "data": {
      "text/html": [
       "<div>\n",
       "<style>\n",
       "    .dataframe thead tr:only-child th {\n",
       "        text-align: right;\n",
       "    }\n",
       "\n",
       "    .dataframe thead th {\n",
       "        text-align: left;\n",
       "    }\n",
       "\n",
       "    .dataframe tbody tr th {\n",
       "        vertical-align: top;\n",
       "    }\n",
       "</style>\n",
       "<table border=\"1\" class=\"dataframe\">\n",
       "  <thead>\n",
       "    <tr style=\"text-align: right;\">\n",
       "      <th></th>\n",
       "      <th>name_province_score</th>\n",
       "      <th>company_name</th>\n",
       "      <th>province</th>\n",
       "      <th>score</th>\n",
       "    </tr>\n",
       "  </thead>\n",
       "  <tbody>\n",
       "    <tr>\n",
       "      <th>0</th>\n",
       "      <td>龙福环能科技股份有限公司__山东95分</td>\n",
       "      <td>龙福环能科技股份有限公司</td>\n",
       "      <td>山东95分</td>\n",
       "      <td>95.000</td>\n",
       "    </tr>\n",
       "    <tr>\n",
       "      <th>1</th>\n",
       "      <td>龙口龙泵燃油喷射有限公司__山东72分</td>\n",
       "      <td>龙口龙泵燃油喷射有限公司</td>\n",
       "      <td>山东72分</td>\n",
       "      <td>72.000</td>\n",
       "    </tr>\n",
       "    <tr>\n",
       "      <th>2</th>\n",
       "      <td>龙口科诺尔玻璃科技有限公司__山东84分</td>\n",
       "      <td>龙口科诺尔玻璃科技有限公司</td>\n",
       "      <td>山东84分</td>\n",
       "      <td>84.000</td>\n",
       "    </tr>\n",
       "    <tr>\n",
       "      <th>3</th>\n",
       "      <td>龙口金正机械有限公司__山东84分</td>\n",
       "      <td>龙口金正机械有限公司</td>\n",
       "      <td>山东84分</td>\n",
       "      <td>84.000</td>\n",
       "    </tr>\n",
       "    <tr>\n",
       "      <th>4</th>\n",
       "      <td>龙口隆基三泵有限公司__山东74分</td>\n",
       "      <td>龙口隆基三泵有限公司</td>\n",
       "      <td>山东74分</td>\n",
       "      <td>74.000</td>\n",
       "    </tr>\n",
       "  </tbody>\n",
       "</table>\n",
       "</div>"
      ],
      "text/plain": [
       "    name_province_score   company_name province  score\n",
       "0   龙福环能科技股份有限公司__山东95分   龙福环能科技股份有限公司    山东95分 95.000\n",
       "1   龙口龙泵燃油喷射有限公司__山东72分   龙口龙泵燃油喷射有限公司    山东72分 72.000\n",
       "2  龙口科诺尔玻璃科技有限公司__山东84分  龙口科诺尔玻璃科技有限公司    山东84分 84.000\n",
       "3     龙口金正机械有限公司__山东84分     龙口金正机械有限公司    山东84分 84.000\n",
       "4     龙口隆基三泵有限公司__山东74分     龙口隆基三泵有限公司    山东74分 74.000"
      ]
     },
     "execution_count": 4,
     "metadata": {},
     "output_type": "execute_result"
    }
   ],
   "source": [
    "score_file = data_folder + '\\\\name_num_20180416.txt'\n",
    "fid = open(score_file, 'r+', encoding = 'utf-8')\n",
    "score_data = fid.readlines()\n",
    "fid.close()\n",
    "\n",
    "score_data = pd.DataFrame(score_data, columns = ['name_province_score'])\n",
    "score_data = score_data.applymap(lambda x: x.replace('\\n', ''))\n",
    "score_data['company_name'] = score_data.applymap(lambda x: x.split('_')[0])\n",
    "score_data['province'] = score_data['name_province_score'].apply(lambda x: x.split('_')[2])\n",
    "score_data['score'] = score_data['province'].str.findall(r'\\d+')\n",
    "score_data['score'] = score_data['score'].apply(lambda x: x[0]).astype(float)\n",
    "print(score_data.shape)\n",
    "score_data.head()"
   ]
  },
  {
   "cell_type": "markdown",
   "metadata": {},
   "source": [
    "## X变量导入"
   ]
  },
  {
   "cell_type": "code",
   "execution_count": 5,
   "metadata": {
    "ExecuteTime": {
     "end_time": "2018-04-16T09:44:54.030955Z",
     "start_time": "2018-04-16T09:44:53.325915Z"
    }
   },
   "outputs": [
    {
     "name": "stdout",
     "output_type": "stream",
     "text": [
      "(14091, 58)\n"
     ]
    },
    {
     "data": {
      "text/html": [
       "<div>\n",
       "<style>\n",
       "    .dataframe thead tr:only-child th {\n",
       "        text-align: right;\n",
       "    }\n",
       "\n",
       "    .dataframe thead th {\n",
       "        text-align: left;\n",
       "    }\n",
       "\n",
       "    .dataframe tbody tr th {\n",
       "        vertical-align: top;\n",
       "    }\n",
       "</style>\n",
       "<table border=\"1\" class=\"dataframe\">\n",
       "  <thead>\n",
       "    <tr style=\"text-align: right;\">\n",
       "      <th></th>\n",
       "      <th>company_regis_capital</th>\n",
       "      <th>company_operat_state</th>\n",
       "      <th>province_name</th>\n",
       "      <th>distinct_name</th>\n",
       "      <th>county_name</th>\n",
       "      <th>chanle_id</th>\n",
       "      <th>company_name</th>\n",
       "      <th>exist_days</th>\n",
       "      <th>category_name</th>\n",
       "      <th>category_code</th>\n",
       "      <th>...</th>\n",
       "      <th>trademark_number</th>\n",
       "      <th>web_filings_number</th>\n",
       "      <th>works_number</th>\n",
       "      <th>outbound_investment_number</th>\n",
       "      <th>agri_number</th>\n",
       "      <th>comp_ent_number</th>\n",
       "      <th>business_level</th>\n",
       "      <th>monitor_number</th>\n",
       "      <th>ind_cred_number</th>\n",
       "      <th>last_credit_rating</th>\n",
       "    </tr>\n",
       "  </thead>\n",
       "  <tbody>\n",
       "    <tr>\n",
       "      <th>0</th>\n",
       "      <td>18486.000</td>\n",
       "      <td>在营</td>\n",
       "      <td>山东省</td>\n",
       "      <td>滨州市</td>\n",
       "      <td>NaN</td>\n",
       "      <td>3db30b86-0c2d-4a2f-b3b3-094407e6d571</td>\n",
       "      <td>龙福环能科技股份有限公司</td>\n",
       "      <td>4432.000</td>\n",
       "      <td>制造业</td>\n",
       "      <td>C</td>\n",
       "      <td>...</td>\n",
       "      <td>44.000</td>\n",
       "      <td>1.000</td>\n",
       "      <td>3.000</td>\n",
       "      <td>4.000</td>\n",
       "      <td>nan</td>\n",
       "      <td>10.000</td>\n",
       "      <td>A</td>\n",
       "      <td>nan</td>\n",
       "      <td>1.000</td>\n",
       "      <td>AAA</td>\n",
       "    </tr>\n",
       "    <tr>\n",
       "      <th>1</th>\n",
       "      <td>40300.000</td>\n",
       "      <td>在营</td>\n",
       "      <td>山东省</td>\n",
       "      <td>烟台市</td>\n",
       "      <td>龙口市</td>\n",
       "      <td>6d47b70b-7631-4718-a9d9-7e1339456f2a</td>\n",
       "      <td>龙口龙泵燃油喷射有限公司</td>\n",
       "      <td>4802.000</td>\n",
       "      <td>制造业</td>\n",
       "      <td>C</td>\n",
       "      <td>...</td>\n",
       "      <td>3.000</td>\n",
       "      <td>1.000</td>\n",
       "      <td>nan</td>\n",
       "      <td>nan</td>\n",
       "      <td>nan</td>\n",
       "      <td>nan</td>\n",
       "      <td>B</td>\n",
       "      <td>nan</td>\n",
       "      <td>nan</td>\n",
       "      <td>NaN</td>\n",
       "    </tr>\n",
       "    <tr>\n",
       "      <th>2</th>\n",
       "      <td>1000.000</td>\n",
       "      <td>在营</td>\n",
       "      <td>山东省</td>\n",
       "      <td>烟台市</td>\n",
       "      <td>龙口市</td>\n",
       "      <td>c1296bea-4ba4-4a7c-a798-b20cee5097be</td>\n",
       "      <td>龙口科诺尔玻璃科技有限公司</td>\n",
       "      <td>6416.000</td>\n",
       "      <td>制造业</td>\n",
       "      <td>C</td>\n",
       "      <td>...</td>\n",
       "      <td>4.000</td>\n",
       "      <td>1.000</td>\n",
       "      <td>nan</td>\n",
       "      <td>nan</td>\n",
       "      <td>nan</td>\n",
       "      <td>nan</td>\n",
       "      <td>B</td>\n",
       "      <td>nan</td>\n",
       "      <td>nan</td>\n",
       "      <td>NaN</td>\n",
       "    </tr>\n",
       "    <tr>\n",
       "      <th>3</th>\n",
       "      <td>120.000</td>\n",
       "      <td>在营</td>\n",
       "      <td>山东省</td>\n",
       "      <td>烟台市</td>\n",
       "      <td>龙口市</td>\n",
       "      <td>46358d2b-0ab3-481e-8937-90958a173d7c</td>\n",
       "      <td>龙口金正机械有限公司</td>\n",
       "      <td>5691.000</td>\n",
       "      <td>制造业</td>\n",
       "      <td>C</td>\n",
       "      <td>...</td>\n",
       "      <td>2.000</td>\n",
       "      <td>1.000</td>\n",
       "      <td>nan</td>\n",
       "      <td>nan</td>\n",
       "      <td>nan</td>\n",
       "      <td>nan</td>\n",
       "      <td>B</td>\n",
       "      <td>nan</td>\n",
       "      <td>nan</td>\n",
       "      <td>NaN</td>\n",
       "    </tr>\n",
       "    <tr>\n",
       "      <th>4</th>\n",
       "      <td>500.000</td>\n",
       "      <td>在营</td>\n",
       "      <td>山东省</td>\n",
       "      <td>烟台市</td>\n",
       "      <td>龙口市</td>\n",
       "      <td>dcf1085d-e665-4321-9fdf-19f4a058ad25</td>\n",
       "      <td>龙口隆基三泵有限公司</td>\n",
       "      <td>8084.000</td>\n",
       "      <td>制造业</td>\n",
       "      <td>C</td>\n",
       "      <td>...</td>\n",
       "      <td>nan</td>\n",
       "      <td>nan</td>\n",
       "      <td>nan</td>\n",
       "      <td>nan</td>\n",
       "      <td>nan</td>\n",
       "      <td>nan</td>\n",
       "      <td>B</td>\n",
       "      <td>nan</td>\n",
       "      <td>nan</td>\n",
       "      <td>NaN</td>\n",
       "    </tr>\n",
       "  </tbody>\n",
       "</table>\n",
       "<p>5 rows × 58 columns</p>\n",
       "</div>"
      ],
      "text/plain": [
       "   company_regis_capital company_operat_state province_name distinct_name  \\\n",
       "0              18486.000                   在营           山东省           滨州市   \n",
       "1              40300.000                   在营           山东省           烟台市   \n",
       "2               1000.000                   在营           山东省           烟台市   \n",
       "3                120.000                   在营           山东省           烟台市   \n",
       "4                500.000                   在营           山东省           烟台市   \n",
       "\n",
       "  county_name                             chanle_id   company_name  \\\n",
       "0         NaN  3db30b86-0c2d-4a2f-b3b3-094407e6d571   龙福环能科技股份有限公司   \n",
       "1         龙口市  6d47b70b-7631-4718-a9d9-7e1339456f2a   龙口龙泵燃油喷射有限公司   \n",
       "2         龙口市  c1296bea-4ba4-4a7c-a798-b20cee5097be  龙口科诺尔玻璃科技有限公司   \n",
       "3         龙口市  46358d2b-0ab3-481e-8937-90958a173d7c     龙口金正机械有限公司   \n",
       "4         龙口市  dcf1085d-e665-4321-9fdf-19f4a058ad25     龙口隆基三泵有限公司   \n",
       "\n",
       "   exist_days category_name category_code         ...          \\\n",
       "0    4432.000           制造业             C         ...           \n",
       "1    4802.000           制造业             C         ...           \n",
       "2    6416.000           制造业             C         ...           \n",
       "3    5691.000           制造业             C         ...           \n",
       "4    8084.000           制造业             C         ...           \n",
       "\n",
       "  trademark_number web_filings_number works_number outbound_investment_number  \\\n",
       "0           44.000              1.000        3.000                      4.000   \n",
       "1            3.000              1.000          nan                        nan   \n",
       "2            4.000              1.000          nan                        nan   \n",
       "3            2.000              1.000          nan                        nan   \n",
       "4              nan                nan          nan                        nan   \n",
       "\n",
       "   agri_number  comp_ent_number  business_level  monitor_number  \\\n",
       "0          nan           10.000               A             nan   \n",
       "1          nan              nan               B             nan   \n",
       "2          nan              nan               B             nan   \n",
       "3          nan              nan               B             nan   \n",
       "4          nan              nan               B             nan   \n",
       "\n",
       "  ind_cred_number  last_credit_rating  \n",
       "0           1.000                 AAA  \n",
       "1             nan                 NaN  \n",
       "2             nan                 NaN  \n",
       "3             nan                 NaN  \n",
       "4             nan                 NaN  \n",
       "\n",
       "[5 rows x 58 columns]"
      ]
     },
     "execution_count": 5,
     "metadata": {},
     "output_type": "execute_result"
    }
   ],
   "source": [
    "fdm_table_name = 'credit_scroe'\n",
    "file_name = result_folder +  '\\\\fdm_3\\\\csv_data\\\\' + fdm_table_name + '.csv'\n",
    "credit_scroe = pd.read_csv(file_name, encoding = 'utf-8', sep='^', )\n",
    "print(credit_scroe.shape)\n",
    "credit_scroe.head()"
   ]
  },
  {
   "cell_type": "markdown",
   "metadata": {},
   "source": [
    "## X变量分类"
   ]
  },
  {
   "cell_type": "markdown",
   "metadata": {},
   "source": [
    "# 预处理"
   ]
  },
  {
   "cell_type": "code",
   "execution_count": 6,
   "metadata": {
    "ExecuteTime": {
     "end_time": "2018-04-16T09:44:54.134961Z",
     "start_time": "2018-04-16T09:44:54.035956Z"
    }
   },
   "outputs": [
    {
     "name": "stdout",
     "output_type": "stream",
     "text": [
      "['company_regis_capital', 'exist_days', 'branch_company_number', 'change_project_number', 'change_number', 'last_change_to_now', 'shareho_number', 'employee_number', 'court_session_number', 'execute_person_number', 'punish_number', 'bidding_number', 'chattel_number', 'annomaly_number', 'produce_number', 'recruitment_number', 'stock_right_number', 'tax_arrears_number', 'tax_rating_number', 'report_number', 'patent_number', 'soft_number', 'trademark_number', 'web_filings_number', 'works_number', 'outbound_investment_number', 'agri_number', 'comp_ent_number', 'monitor_number', 'ind_cred_number']\n"
     ]
    }
   ],
   "source": [
    "# 称名数据\n",
    "nominal_col_1 = ['chanle_id', 'company_name', 'province_name','distinct_name', \n",
    "                 'county_name', 'category_name','category_code', \n",
    "                 'company_main_type_name', 'company_produce_indus', \n",
    "                 'company_cancellate_no','company_stock_ple_status','bidding_area',\n",
    "                 'company_initiate_type','company_economic_region','company_oper_class',\n",
    "                 'company_spe_trade_area','company_produce_calss', 'execute_type']\n",
    "nominal_data_1 = credit_scroe[nominal_col_1]\n",
    "\n",
    "nominal_col_2 = ['is_email','is_telephone',  'is_web_site']\n",
    "nominal_data_2 = credit_scroe[nominal_col_2].astype(str)\n",
    "\n",
    "nominal_col = nominal_col_1 + nominal_col_2\n",
    "\n",
    "# 顺序数据\n",
    "ordinal_col = ['company_operat_state',  'company_annual_report', \n",
    "               'execute_perform', 'company_credit_level',\n",
    "               'last_tax_level', 'business_level', 'last_credit_rating']\n",
    "ordinal_data = credit_scroe[ordinal_col].astype(str)\n",
    "\n",
    "# 等距与等比\n",
    "col_list = credit_scroe.columns.tolist()\n",
    "distance_col = []\n",
    "    \n",
    "for col in col_list:\n",
    "    if (col not in nominal_col) & (col not in ordinal_col):\n",
    "        distance_col.append(col)\n",
    "        \n",
    "distance_data = credit_scroe[distance_col]\n",
    "print(distance_col)"
   ]
  },
  {
   "cell_type": "code",
   "execution_count": 7,
   "metadata": {
    "ExecuteTime": {
     "end_time": "2018-04-16T09:44:54.460980Z",
     "start_time": "2018-04-16T09:44:54.139962Z"
    }
   },
   "outputs": [
    {
     "name": "stdout",
     "output_type": "stream",
     "text": [
      "不重复的变量个数： 55\n",
      "(14091, 55)\n"
     ]
    }
   ],
   "source": [
    "nominal_var = nominal_col.copy()\n",
    "for col in ['company_name', 'chanle_id', 'category_code']:\n",
    "    nominal_var.remove(col)\n",
    "\n",
    "model_var = nominal_var + ordinal_col + distance_col\n",
    "print('不重复的变量个数：', len(np.unique(model_var)))\n",
    "preprocessed_data = credit_scroe[model_var]\n",
    " \n",
    "print(preprocessed_data.shape)\n",
    "# preprocessed_data.columns"
   ]
  },
  {
   "cell_type": "markdown",
   "metadata": {
    "collapsed": true
   },
   "source": [
    "## 分类变量"
   ]
  },
  {
   "cell_type": "markdown",
   "metadata": {},
   "source": [
    "### 无序"
   ]
  },
  {
   "cell_type": "code",
   "execution_count": 8,
   "metadata": {
    "ExecuteTime": {
     "end_time": "2018-04-16T09:44:54.861003Z",
     "start_time": "2018-04-16T09:44:54.464980Z"
    }
   },
   "outputs": [
    {
     "name": "stdout",
     "output_type": "stream",
     "text": [
      "-- 1  province_name ： (2,) ['山东省' nan]\n",
      "-- 2  distinct_name ： (18,) ['滨州市' '烟台市' nan '济南市' '威海市' '济宁市' '德州市' '东营市' '青岛市' '聊城市' '潍坊市' '菏泽市'\n",
      " '临沂市' '莱芜市' '淄博市' '日照市' '枣庄市' '泰安市']\n",
      "-- 3  county_name ： (133,) [nan '龙口市' '市中区' '齐河县' '邹平县' '黄岛区' '荣成市' '东明县' '鱼台县' '寿光市' '高青县' '高密市'\n",
      " '高唐县' '城阳区' '潍城区' '沂水县' '青州市' '市北区' '崂山区' '即墨市' '胶州市' '李沧区' '市南区' '莱西市'\n",
      " '平度市' '阳谷县' '平原县' '阳信县' '长岛县' '环翠区' '兰山区' '临沭县' '金乡县' '鄄城县' '郯城县' '郓城县'\n",
      " '邹城市' '费县' '诸城市' '利津县' '蓬莱市' '历城区' '蒙阴县' '牡丹区' '单县' '莱阳市' '莱城区' '钢城区'\n",
      " '莱州市' '莒县' '莘县' '莒南县' '茌平县' '昌乐县' '东营区' '临邑县' '肥城市' '滕州市' '冠县' '东阿县'\n",
      " '东昌府区' '章丘市' '汶上县' '栖霞市' '禹城市' '广饶县' '张店区' '招远市' '芝罘区' '牟平区' '莱山区' '海阳市'\n",
      " '福山区' '乳山市' '寒亭区' '昌邑市' '奎文区' '坊子区' '临朐县' '安丘市' '滨城区' '博兴县' '无棣县' '临淄区'\n",
      " '桓台县' '淄川区' '周村区' '博山区' '沂源县' '梁山县' '任城区' '曲阜市' '嘉祥县' '泗水县' '兖州区' '长清区'\n",
      " '平阴县' '济阳县' '天桥区' '槐荫区' '历下区' '商河县' '宁阳县' '泰山区' '河东区' '沂南县' '宁津县' '武城县'\n",
      " '台儿庄区' '薛城区' '峄城区' '山亭区' '曹县' '岚山区' '东港区' '新泰市' '成武县' '惠民县' '德城区' '庆云县'\n",
      " '陵城区' '乐陵市' '微山县' '平邑县' '巨野县' '兰陵县' '河口区' '罗庄区' '临清市' '东平县' '文登区'\n",
      " '临沂市_市辖区' '夏津县']\n",
      "-- 4  category_name ： (20,) ['制造业' '批发和零售业' '交通运输、仓储和邮政业' '信息传输、软件和信息技术服务业' '水利、环境和公共设施管理业' '租赁和商务服务业'\n",
      " '房地产业' '金融业' '建筑业' '农、林、牧、渔业' '电力、热力、燃气及水生产和供应业' '采矿业' '住宿和餐饮业' '教育' nan\n",
      " '科学研究和技术服务业' '居民服务、修理和其他服务业' '文化、体育和娱乐业' '国际组织' '卫生和社会工作']\n",
      "-- 5  company_main_type_name ： (14,) ['内资公司_股份有限公司' '内资公司_有限责任公司' '外商投资企业_有限责任公司' '内资企业法人' '内资分公司_有限责任公司'\n",
      " '港澳台投资企业_有限责任公司' '外商投资企业_股份有限公司' nan '内资非法人企业_非公司私营企业_内资非公司企业分支机构'\n",
      " '内资分公司_股份有限公司' '港澳台投资企业_股份有限公司' '其他类型' '外商投资企业_其他' '港澳台分公司']\n",
      "-- 6  company_produce_indus ： (13,) [nan '财务' '摄影与录像' '生活' '游戏' '工具' '美食佳饮' '商务' '新闻' '教育' '购物' '社交' '参考']\n",
      "-- 7  company_cancellate_no ： (3,) ['正常' nan '注销']\n",
      "-- 8  company_stock_ple_status ： (3,) ['有效' nan '无效']\n",
      "-- 9  bidding_area ： (5,) [nan 'SD' 'ZJ' 'UN' 'SC']\n",
      "-- 10  company_initiate_type ： (3,) [nan '个人' '企业']\n",
      "-- 11  company_economic_region ： (7,) ['一般经济区域' nan '保税区' '经济技术开发全区' '高新技术产业开发区' '保税港区、综合保税区' '出口加工区']\n",
      "-- 12  company_oper_class ： (5,) ['进出口收发货人' nan '报关企业' '加工生产企业' '临时注册企业']\n",
      "-- 13  company_spe_trade_area ： (2,) ['非特殊区域' nan]\n",
      "-- 14  company_produce_calss ： (3,) [nan '应用' '游戏']\n",
      "-- 15  execute_type ： (3,) [nan '企业' '自然人']\n",
      "-- 16  is_email ： (3,) ['YES' 'NO' nan]\n",
      "-- 17  is_telephone ： (3,) ['YES' 'NO' nan]\n",
      "-- 18  is_web_site ： (3,) ['YES' 'NO' nan]\n"
     ]
    }
   ],
   "source": [
    "for ind, col in enumerate(nominal_var):\n",
    "    print('-- %d  %s ：'%(ind +1, col), \n",
    "          preprocessed_data[col].unique().shape, \n",
    "          preprocessed_data[col].unique())"
   ]
  },
  {
   "cell_type": "code",
   "execution_count": 9,
   "metadata": {
    "ExecuteTime": {
     "end_time": "2018-04-16T09:44:57.263140Z",
     "start_time": "2018-04-16T09:44:54.867003Z"
    }
   },
   "outputs": [
    {
     "name": "stdout",
     "output_type": "stream",
     "text": [
      "* 0   -- province_name\n",
      "* 1   -- distinct_name\n",
      "* 2   -- county_name\n",
      "* 3   -- category_name\n",
      "* 4   -- company_main_type_name\n",
      "* 5   -- company_produce_indus\n",
      "* 6   -- company_cancellate_no\n",
      "* 7   -- company_stock_ple_status\n",
      "* 8   -- bidding_area\n",
      "* 9   -- company_initiate_type\n",
      "* 10   -- company_economic_region\n",
      "* 11   -- company_oper_class\n",
      "* 12   -- company_spe_trade_area\n",
      "* 13   -- company_produce_calss\n",
      "* 14   -- execute_type\n",
      "* 15   -- is_email\n",
      "* 16   -- is_telephone\n",
      "* 17   -- is_web_site\n"
     ]
    }
   ],
   "source": [
    "label_nominal_var = ['label_' + x for x in nominal_var]\n",
    "preprocessed_data[nominal_var] = preprocessed_data[nominal_var].fillna('EEEEE')\n",
    "preprocessed_data = categorical_encode(nominal_var, preprocessed_data, one_hot = False, \n",
    "                                  cat_encode_filepath = data_folder , \n",
    "                                  old_cat_encode = None, update_cat_encode = False)"
   ]
  },
  {
   "cell_type": "code",
   "execution_count": 10,
   "metadata": {
    "ExecuteTime": {
     "end_time": "2018-04-16T09:44:57.629161Z",
     "start_time": "2018-04-16T09:44:57.267141Z"
    }
   },
   "outputs": [
    {
     "name": "stdout",
     "output_type": "stream",
     "text": [
      "-- 1  label_province_name ： (2,) [  1.  nan]\n",
      "-- 2  label_distinct_name ： (18,) [ 11.  13.  nan   8.   3.   9.   4.   1.  17.  14.  12.  16.   2.  15.  10.\n",
      "   5.   6.   7.]\n",
      "-- 3  label_county_name ： (133,) [  nan  132.   46.  131.  114.  130.   99.    3.  129.   40.  128.  127.\n",
      "  126.   32.   87.   76.  125.   47.   44.   24.   96.   68.   48.  106.\n",
      "   50.  123.   49.  122.  120.   90.   17.    9.  118.  117.  116.  115.\n",
      "  113.  112.  111.   20.  109.   26.  108.   89.   21.  107.  103.  119.\n",
      "  105.  101.  102.  100.   98.   64.    5.   12.   95.   85.   19.    6.\n",
      "    2.   93.   74.   69.   92.   53.   55.   60.   97.   88.  104.   83.\n",
      "   91.   14.   39.   65.   35.   31.    7.   38.   86.   22.   63.   10.\n",
      "   70.   84.   28.   23.   77.   71.   15.   66.   30.   80.   16.  121.\n",
      "   52.   82.   34.   72.   25.   29.   37.   81.   78.   75.   36.   73.\n",
      "   27.  110.   43.   41.   67.   42.    4.   62.   59.   58.   57.   54.\n",
      "  124.   13.   56.   51.   45.   18.   79.   94.   11.    1.   61.    8.\n",
      "   33.]\n",
      "-- 4  label_category_name ： (20,) [  5.  11.   1.   3.  14.  17.  10.  19.   9.   4.  15.  18.   2.  12.  nan\n",
      "  16.   8.  13.   7.   6.]\n",
      "-- 5  label_company_main_type_name ： (14,) [  4.   3.   9.   2.   5.  12.  10.  nan   7.   6.  13.   1.   8.  11.]\n",
      "-- 6  label_company_produce_indus ： (13,) [ nan  11.   4.   8.   7.   3.  10.   2.   6.   5.  12.   9.   1.]\n",
      "-- 7  label_company_cancellate_no ： (3,) [  1.  nan   2.]\n",
      "-- 8  label_company_stock_ple_status ： (3,) [  2.  nan   1.]\n",
      "-- 9  label_bidding_area ： (5,) [ nan   2.   4.   3.   1.]\n",
      "-- 10  label_company_initiate_type ： (3,) [ nan   1.   2.]\n",
      "-- 11  label_company_economic_region ： (7,) [  1.  nan   2.   5.   6.   3.   4.]\n",
      "-- 12  label_company_oper_class ： (5,) [  4.  nan   3.   2.   1.]\n",
      "-- 13  label_company_spe_trade_area ： (2,) [  1.  nan]\n",
      "-- 14  label_company_produce_calss ： (3,) [ nan   1.   2.]\n",
      "-- 15  label_execute_type ： (3,) [ nan   1.   2.]\n",
      "-- 16  label_is_email ： (3,) [  2.   1.  nan]\n",
      "-- 17  label_is_telephone ： (3,) [  2.   1.  nan]\n",
      "-- 18  label_is_web_site ： (3,) [  2.   1.  nan]\n"
     ]
    }
   ],
   "source": [
    "for ind, col in enumerate(label_nominal_var):\n",
    "    print('-- %d  %s ：'%(ind +1, col), \n",
    "          preprocessed_data[col].unique().shape, \n",
    "          preprocessed_data[col].unique())"
   ]
  },
  {
   "cell_type": "markdown",
   "metadata": {
    "ExecuteTime": {
     "end_time": "2018-04-12T03:47:28.921717Z",
     "start_time": "2018-04-12T03:47:28.901716Z"
    },
    "collapsed": true
   },
   "source": [
    "### 有序"
   ]
  },
  {
   "cell_type": "code",
   "execution_count": 11,
   "metadata": {
    "ExecuteTime": {
     "end_time": "2018-04-16T09:44:57.789170Z",
     "start_time": "2018-04-16T09:44:57.635162Z"
    }
   },
   "outputs": [
    {
     "name": "stdout",
     "output_type": "stream",
     "text": [
      "-- 1  company_operat_state ： (5,) ['在营' '吊销' '注销' nan '迁出']\n",
      "-- 2  company_annual_report ： (6,) ['未报送' '已报送' nan '超期未报送' '超期报送' '不需要']\n",
      "-- 3  execute_perform ： (3,) [nan '全部未履行' '部分未履行']\n",
      "-- 4  company_credit_level ： (4,) [nan '一般信用企业' '高级认证企业' '一般认证企业']\n",
      "-- 5  last_tax_level ： (2,) ['A' nan]\n",
      "-- 6  business_level ： (5,) ['A' 'B' nan 'D' 'C']\n",
      "-- 7  last_credit_rating ： (6,) ['AAA' nan 'A' 'AA' 'BBB' 'AA+']\n"
     ]
    }
   ],
   "source": [
    "for ind, col in enumerate(ordinal_col):\n",
    "    print('-- %d  %s ：'%(ind +1, col), \n",
    "          preprocessed_data[col].unique().shape, \n",
    "          preprocessed_data[col].unique())"
   ]
  },
  {
   "cell_type": "code",
   "execution_count": 12,
   "metadata": {
    "ExecuteTime": {
     "end_time": "2018-04-16T09:44:58.392205Z",
     "start_time": "2018-04-16T09:44:57.794171Z"
    },
    "collapsed": true
   },
   "outputs": [],
   "source": [
    "file_name = data_folder + '\\\\fdm_有序标签.xlsx'\n",
    "#with pd.ExcelWriter(file_name) as writer:\n",
    "#    for ind, col in enumerate(ordinal_col):\n",
    "#        pd.DataFrame([[x,''] for x in preprocessed_data[col].unique()], \n",
    "#                     columns = ['value', 'ordinal']).to_excel(writer,col)\n",
    "#    writer.save()\n",
    "\n",
    "label_ordinal_col = ['label_' + col for col in ordinal_col]\n",
    "preprocessed_data[ordinal_col] = preprocessed_data[ordinal_col].fillna('EEEEE')\n",
    "for col in ordinal_col:\n",
    "    value_ordinal = pd.read_excel(file_name, col)\n",
    "    label_mapping = {value:ordinal for value,ordinal in zip(value_ordinal['value'],value_ordinal['ordinal'])}\n",
    "    preprocessed_data['label_' + col] = preprocessed_data[col].map(label_mapping).replace(0,np.nan)\n",
    "    preprocessed_data = preprocessed_data.drop(col, axis = 1)"
   ]
  },
  {
   "cell_type": "code",
   "execution_count": 13,
   "metadata": {
    "ExecuteTime": {
     "end_time": "2018-04-16T09:44:58.546214Z",
     "start_time": "2018-04-16T09:44:58.396205Z"
    }
   },
   "outputs": [
    {
     "name": "stdout",
     "output_type": "stream",
     "text": [
      "-- 1  label_company_operat_state ： (5,) [  4.   1.   2.  nan   3.]\n",
      "-- 2  label_company_annual_report ： (6,) [  2.   4.  nan   1.   3.   5.]\n",
      "-- 3  label_execute_perform ： (3,) [ nan   1.   2.]\n",
      "-- 4  label_company_credit_level ： (4,) [ nan   1.   3.   2.]\n",
      "-- 5  label_last_tax_level ： (2,) [  1.  nan]\n",
      "-- 6  label_business_level ： (5,) [  4.   3.  nan   1.   2.]\n",
      "-- 7  label_last_credit_rating ： (6,) [  5.  nan   2.   3.   1.   4.]\n"
     ]
    }
   ],
   "source": [
    "for ind, col in enumerate(label_ordinal_col):\n",
    "    print('-- %d  %s ：'%(ind +1, col), \n",
    "          preprocessed_data[col].unique().shape, \n",
    "          preprocessed_data[col].unique())"
   ]
  },
  {
   "cell_type": "markdown",
   "metadata": {},
   "source": [
    "## 数值变量"
   ]
  },
  {
   "cell_type": "markdown",
   "metadata": {
    "ExecuteTime": {
     "end_time": "2018-04-12T08:33:03.325749Z",
     "start_time": "2018-04-12T08:33:03.316748Z"
    },
    "collapsed": true
   },
   "source": [
    "### 极端值处理"
   ]
  },
  {
   "cell_type": "code",
   "execution_count": null,
   "metadata": {
    "collapsed": true
   },
   "outputs": [],
   "source": []
  },
  {
   "cell_type": "markdown",
   "metadata": {},
   "source": [
    "### 标准化"
   ]
  },
  {
   "cell_type": "code",
   "execution_count": 14,
   "metadata": {
    "ExecuteTime": {
     "end_time": "2018-04-16T09:44:58.621218Z",
     "start_time": "2018-04-16T09:44:58.550214Z"
    }
   },
   "outputs": [
    {
     "data": {
      "text/html": [
       "<div>\n",
       "<style>\n",
       "    .dataframe thead tr:only-child th {\n",
       "        text-align: right;\n",
       "    }\n",
       "\n",
       "    .dataframe thead th {\n",
       "        text-align: left;\n",
       "    }\n",
       "\n",
       "    .dataframe tbody tr th {\n",
       "        vertical-align: top;\n",
       "    }\n",
       "</style>\n",
       "<table border=\"1\" class=\"dataframe\">\n",
       "  <thead>\n",
       "    <tr style=\"text-align: right;\">\n",
       "      <th></th>\n",
       "      <th>company_regis_capital</th>\n",
       "      <th>exist_days</th>\n",
       "      <th>branch_company_number</th>\n",
       "      <th>change_project_number</th>\n",
       "      <th>change_number</th>\n",
       "      <th>last_change_to_now</th>\n",
       "      <th>shareho_number</th>\n",
       "      <th>employee_number</th>\n",
       "      <th>court_session_number</th>\n",
       "      <th>execute_person_number</th>\n",
       "      <th>...</th>\n",
       "      <th>patent_number</th>\n",
       "      <th>soft_number</th>\n",
       "      <th>trademark_number</th>\n",
       "      <th>web_filings_number</th>\n",
       "      <th>works_number</th>\n",
       "      <th>outbound_investment_number</th>\n",
       "      <th>agri_number</th>\n",
       "      <th>comp_ent_number</th>\n",
       "      <th>monitor_number</th>\n",
       "      <th>ind_cred_number</th>\n",
       "    </tr>\n",
       "  </thead>\n",
       "  <tbody>\n",
       "    <tr>\n",
       "      <th>0</th>\n",
       "      <td>18486.000</td>\n",
       "      <td>4432.000</td>\n",
       "      <td>nan</td>\n",
       "      <td>nan</td>\n",
       "      <td>nan</td>\n",
       "      <td>nan</td>\n",
       "      <td>nan</td>\n",
       "      <td>10.000</td>\n",
       "      <td>nan</td>\n",
       "      <td>nan</td>\n",
       "      <td>...</td>\n",
       "      <td>19.000</td>\n",
       "      <td>nan</td>\n",
       "      <td>44.000</td>\n",
       "      <td>1.000</td>\n",
       "      <td>3.000</td>\n",
       "      <td>4.000</td>\n",
       "      <td>nan</td>\n",
       "      <td>10.000</td>\n",
       "      <td>nan</td>\n",
       "      <td>1.000</td>\n",
       "    </tr>\n",
       "    <tr>\n",
       "      <th>1</th>\n",
       "      <td>40300.000</td>\n",
       "      <td>4802.000</td>\n",
       "      <td>nan</td>\n",
       "      <td>nan</td>\n",
       "      <td>nan</td>\n",
       "      <td>nan</td>\n",
       "      <td>nan</td>\n",
       "      <td>7.000</td>\n",
       "      <td>nan</td>\n",
       "      <td>nan</td>\n",
       "      <td>...</td>\n",
       "      <td>21.000</td>\n",
       "      <td>nan</td>\n",
       "      <td>3.000</td>\n",
       "      <td>1.000</td>\n",
       "      <td>nan</td>\n",
       "      <td>nan</td>\n",
       "      <td>nan</td>\n",
       "      <td>nan</td>\n",
       "      <td>nan</td>\n",
       "      <td>nan</td>\n",
       "    </tr>\n",
       "    <tr>\n",
       "      <th>2</th>\n",
       "      <td>1000.000</td>\n",
       "      <td>6416.000</td>\n",
       "      <td>nan</td>\n",
       "      <td>nan</td>\n",
       "      <td>nan</td>\n",
       "      <td>nan</td>\n",
       "      <td>nan</td>\n",
       "      <td>8.000</td>\n",
       "      <td>nan</td>\n",
       "      <td>nan</td>\n",
       "      <td>...</td>\n",
       "      <td>nan</td>\n",
       "      <td>nan</td>\n",
       "      <td>4.000</td>\n",
       "      <td>1.000</td>\n",
       "      <td>nan</td>\n",
       "      <td>nan</td>\n",
       "      <td>nan</td>\n",
       "      <td>nan</td>\n",
       "      <td>nan</td>\n",
       "      <td>nan</td>\n",
       "    </tr>\n",
       "    <tr>\n",
       "      <th>3</th>\n",
       "      <td>120.000</td>\n",
       "      <td>5691.000</td>\n",
       "      <td>nan</td>\n",
       "      <td>nan</td>\n",
       "      <td>nan</td>\n",
       "      <td>nan</td>\n",
       "      <td>nan</td>\n",
       "      <td>8.000</td>\n",
       "      <td>nan</td>\n",
       "      <td>nan</td>\n",
       "      <td>...</td>\n",
       "      <td>1.000</td>\n",
       "      <td>nan</td>\n",
       "      <td>2.000</td>\n",
       "      <td>1.000</td>\n",
       "      <td>nan</td>\n",
       "      <td>nan</td>\n",
       "      <td>nan</td>\n",
       "      <td>nan</td>\n",
       "      <td>nan</td>\n",
       "      <td>nan</td>\n",
       "    </tr>\n",
       "    <tr>\n",
       "      <th>4</th>\n",
       "      <td>500.000</td>\n",
       "      <td>8084.000</td>\n",
       "      <td>nan</td>\n",
       "      <td>nan</td>\n",
       "      <td>nan</td>\n",
       "      <td>nan</td>\n",
       "      <td>nan</td>\n",
       "      <td>7.000</td>\n",
       "      <td>nan</td>\n",
       "      <td>nan</td>\n",
       "      <td>...</td>\n",
       "      <td>2.000</td>\n",
       "      <td>nan</td>\n",
       "      <td>nan</td>\n",
       "      <td>nan</td>\n",
       "      <td>nan</td>\n",
       "      <td>nan</td>\n",
       "      <td>nan</td>\n",
       "      <td>nan</td>\n",
       "      <td>nan</td>\n",
       "      <td>nan</td>\n",
       "    </tr>\n",
       "  </tbody>\n",
       "</table>\n",
       "<p>5 rows × 30 columns</p>\n",
       "</div>"
      ],
      "text/plain": [
       "   company_regis_capital  exist_days  branch_company_number  \\\n",
       "0              18486.000    4432.000                    nan   \n",
       "1              40300.000    4802.000                    nan   \n",
       "2               1000.000    6416.000                    nan   \n",
       "3                120.000    5691.000                    nan   \n",
       "4                500.000    8084.000                    nan   \n",
       "\n",
       "   change_project_number  change_number  last_change_to_now  shareho_number  \\\n",
       "0                    nan            nan                 nan             nan   \n",
       "1                    nan            nan                 nan             nan   \n",
       "2                    nan            nan                 nan             nan   \n",
       "3                    nan            nan                 nan             nan   \n",
       "4                    nan            nan                 nan             nan   \n",
       "\n",
       "   employee_number  court_session_number  execute_person_number  \\\n",
       "0           10.000                   nan                    nan   \n",
       "1            7.000                   nan                    nan   \n",
       "2            8.000                   nan                    nan   \n",
       "3            8.000                   nan                    nan   \n",
       "4            7.000                   nan                    nan   \n",
       "\n",
       "        ...         patent_number  soft_number  trademark_number  \\\n",
       "0       ...                19.000          nan            44.000   \n",
       "1       ...                21.000          nan             3.000   \n",
       "2       ...                   nan          nan             4.000   \n",
       "3       ...                 1.000          nan             2.000   \n",
       "4       ...                 2.000          nan               nan   \n",
       "\n",
       "   web_filings_number  works_number  outbound_investment_number  agri_number  \\\n",
       "0               1.000         3.000                       4.000          nan   \n",
       "1               1.000           nan                         nan          nan   \n",
       "2               1.000           nan                         nan          nan   \n",
       "3               1.000           nan                         nan          nan   \n",
       "4                 nan           nan                         nan          nan   \n",
       "\n",
       "   comp_ent_number  monitor_number  ind_cred_number  \n",
       "0           10.000             nan            1.000  \n",
       "1              nan             nan              nan  \n",
       "2              nan             nan              nan  \n",
       "3              nan             nan              nan  \n",
       "4              nan             nan              nan  \n",
       "\n",
       "[5 rows x 30 columns]"
      ]
     },
     "execution_count": 14,
     "metadata": {},
     "output_type": "execute_result"
    }
   ],
   "source": [
    "preprocessed_data[distance_col].head()"
   ]
  },
  {
   "cell_type": "code",
   "execution_count": 15,
   "metadata": {
    "ExecuteTime": {
     "end_time": "2018-04-16T09:44:59.584273Z",
     "start_time": "2018-04-16T09:44:58.627218Z"
    },
    "collapsed": true
   },
   "outputs": [],
   "source": [
    "# 区间缩放法 [0, 1]\n",
    "def MinMax(x, col_min, col_max):\n",
    "    if str(x) != 'nan':\n",
    "        y = (x-col_min)/(col_max - col_min)\n",
    "        return y\n",
    "    else :\n",
    "        return x\n",
    "\n",
    "label_distance_col = ['label_' + col for col in distance_col]\n",
    "for col in distance_col:\n",
    "    try :\n",
    "        col_min = preprocessed_data[col].min()\n",
    "        col_max = preprocessed_data[col].max()\n",
    "        preprocessed_data['label_' + col] = preprocessed_data[col].apply(lambda x :MinMax(x, col_min, col_max))\n",
    "        preprocessed_data = preprocessed_data.drop(col, axis = 1)\n",
    "        # print('**  ', col)\n",
    "    except Exception as e:\n",
    "        print('----  ', col)\n",
    "        print(e)"
   ]
  },
  {
   "cell_type": "code",
   "execution_count": 16,
   "metadata": {
    "ExecuteTime": {
     "end_time": "2018-04-16T09:44:59.626275Z",
     "start_time": "2018-04-16T09:44:59.588273Z"
    }
   },
   "outputs": [
    {
     "data": {
      "text/html": [
       "<div>\n",
       "<style>\n",
       "    .dataframe thead tr:only-child th {\n",
       "        text-align: right;\n",
       "    }\n",
       "\n",
       "    .dataframe thead th {\n",
       "        text-align: left;\n",
       "    }\n",
       "\n",
       "    .dataframe tbody tr th {\n",
       "        vertical-align: top;\n",
       "    }\n",
       "</style>\n",
       "<table border=\"1\" class=\"dataframe\">\n",
       "  <thead>\n",
       "    <tr style=\"text-align: right;\">\n",
       "      <th></th>\n",
       "      <th>label_company_regis_capital</th>\n",
       "      <th>label_exist_days</th>\n",
       "      <th>label_branch_company_number</th>\n",
       "      <th>label_change_project_number</th>\n",
       "      <th>label_change_number</th>\n",
       "      <th>label_last_change_to_now</th>\n",
       "      <th>label_shareho_number</th>\n",
       "      <th>label_employee_number</th>\n",
       "      <th>label_court_session_number</th>\n",
       "      <th>label_execute_person_number</th>\n",
       "      <th>...</th>\n",
       "      <th>label_patent_number</th>\n",
       "      <th>label_soft_number</th>\n",
       "      <th>label_trademark_number</th>\n",
       "      <th>label_web_filings_number</th>\n",
       "      <th>label_works_number</th>\n",
       "      <th>label_outbound_investment_number</th>\n",
       "      <th>label_agri_number</th>\n",
       "      <th>label_comp_ent_number</th>\n",
       "      <th>label_monitor_number</th>\n",
       "      <th>label_ind_cred_number</th>\n",
       "    </tr>\n",
       "  </thead>\n",
       "  <tbody>\n",
       "    <tr>\n",
       "      <th>0</th>\n",
       "      <td>0.005</td>\n",
       "      <td>0.182</td>\n",
       "      <td>nan</td>\n",
       "      <td>nan</td>\n",
       "      <td>nan</td>\n",
       "      <td>nan</td>\n",
       "      <td>nan</td>\n",
       "      <td>0.012</td>\n",
       "      <td>nan</td>\n",
       "      <td>nan</td>\n",
       "      <td>...</td>\n",
       "      <td>0.005</td>\n",
       "      <td>nan</td>\n",
       "      <td>0.019</td>\n",
       "      <td>0.000</td>\n",
       "      <td>0.002</td>\n",
       "      <td>0.008</td>\n",
       "      <td>nan</td>\n",
       "      <td>0.241</td>\n",
       "      <td>nan</td>\n",
       "      <td>0.000</td>\n",
       "    </tr>\n",
       "    <tr>\n",
       "      <th>1</th>\n",
       "      <td>0.010</td>\n",
       "      <td>0.198</td>\n",
       "      <td>nan</td>\n",
       "      <td>nan</td>\n",
       "      <td>nan</td>\n",
       "      <td>nan</td>\n",
       "      <td>nan</td>\n",
       "      <td>0.008</td>\n",
       "      <td>nan</td>\n",
       "      <td>nan</td>\n",
       "      <td>...</td>\n",
       "      <td>0.006</td>\n",
       "      <td>nan</td>\n",
       "      <td>0.001</td>\n",
       "      <td>0.000</td>\n",
       "      <td>nan</td>\n",
       "      <td>nan</td>\n",
       "      <td>nan</td>\n",
       "      <td>nan</td>\n",
       "      <td>nan</td>\n",
       "      <td>nan</td>\n",
       "    </tr>\n",
       "    <tr>\n",
       "      <th>2</th>\n",
       "      <td>0.000</td>\n",
       "      <td>0.266</td>\n",
       "      <td>nan</td>\n",
       "      <td>nan</td>\n",
       "      <td>nan</td>\n",
       "      <td>nan</td>\n",
       "      <td>nan</td>\n",
       "      <td>0.009</td>\n",
       "      <td>nan</td>\n",
       "      <td>nan</td>\n",
       "      <td>...</td>\n",
       "      <td>nan</td>\n",
       "      <td>nan</td>\n",
       "      <td>0.001</td>\n",
       "      <td>0.000</td>\n",
       "      <td>nan</td>\n",
       "      <td>nan</td>\n",
       "      <td>nan</td>\n",
       "      <td>nan</td>\n",
       "      <td>nan</td>\n",
       "      <td>nan</td>\n",
       "    </tr>\n",
       "    <tr>\n",
       "      <th>3</th>\n",
       "      <td>0.000</td>\n",
       "      <td>0.236</td>\n",
       "      <td>nan</td>\n",
       "      <td>nan</td>\n",
       "      <td>nan</td>\n",
       "      <td>nan</td>\n",
       "      <td>nan</td>\n",
       "      <td>0.009</td>\n",
       "      <td>nan</td>\n",
       "      <td>nan</td>\n",
       "      <td>...</td>\n",
       "      <td>0.000</td>\n",
       "      <td>nan</td>\n",
       "      <td>0.000</td>\n",
       "      <td>0.000</td>\n",
       "      <td>nan</td>\n",
       "      <td>nan</td>\n",
       "      <td>nan</td>\n",
       "      <td>nan</td>\n",
       "      <td>nan</td>\n",
       "      <td>nan</td>\n",
       "    </tr>\n",
       "    <tr>\n",
       "      <th>4</th>\n",
       "      <td>0.000</td>\n",
       "      <td>0.337</td>\n",
       "      <td>nan</td>\n",
       "      <td>nan</td>\n",
       "      <td>nan</td>\n",
       "      <td>nan</td>\n",
       "      <td>nan</td>\n",
       "      <td>0.008</td>\n",
       "      <td>nan</td>\n",
       "      <td>nan</td>\n",
       "      <td>...</td>\n",
       "      <td>0.000</td>\n",
       "      <td>nan</td>\n",
       "      <td>nan</td>\n",
       "      <td>nan</td>\n",
       "      <td>nan</td>\n",
       "      <td>nan</td>\n",
       "      <td>nan</td>\n",
       "      <td>nan</td>\n",
       "      <td>nan</td>\n",
       "      <td>nan</td>\n",
       "    </tr>\n",
       "  </tbody>\n",
       "</table>\n",
       "<p>5 rows × 30 columns</p>\n",
       "</div>"
      ],
      "text/plain": [
       "   label_company_regis_capital  label_exist_days  label_branch_company_number  \\\n",
       "0                        0.005             0.182                          nan   \n",
       "1                        0.010             0.198                          nan   \n",
       "2                        0.000             0.266                          nan   \n",
       "3                        0.000             0.236                          nan   \n",
       "4                        0.000             0.337                          nan   \n",
       "\n",
       "   label_change_project_number  label_change_number  label_last_change_to_now  \\\n",
       "0                          nan                  nan                       nan   \n",
       "1                          nan                  nan                       nan   \n",
       "2                          nan                  nan                       nan   \n",
       "3                          nan                  nan                       nan   \n",
       "4                          nan                  nan                       nan   \n",
       "\n",
       "   label_shareho_number  label_employee_number  label_court_session_number  \\\n",
       "0                   nan                  0.012                         nan   \n",
       "1                   nan                  0.008                         nan   \n",
       "2                   nan                  0.009                         nan   \n",
       "3                   nan                  0.009                         nan   \n",
       "4                   nan                  0.008                         nan   \n",
       "\n",
       "   label_execute_person_number          ...            label_patent_number  \\\n",
       "0                          nan          ...                          0.005   \n",
       "1                          nan          ...                          0.006   \n",
       "2                          nan          ...                            nan   \n",
       "3                          nan          ...                          0.000   \n",
       "4                          nan          ...                          0.000   \n",
       "\n",
       "   label_soft_number  label_trademark_number  label_web_filings_number  \\\n",
       "0                nan                   0.019                     0.000   \n",
       "1                nan                   0.001                     0.000   \n",
       "2                nan                   0.001                     0.000   \n",
       "3                nan                   0.000                     0.000   \n",
       "4                nan                     nan                       nan   \n",
       "\n",
       "   label_works_number  label_outbound_investment_number  label_agri_number  \\\n",
       "0               0.002                             0.008                nan   \n",
       "1                 nan                               nan                nan   \n",
       "2                 nan                               nan                nan   \n",
       "3                 nan                               nan                nan   \n",
       "4                 nan                               nan                nan   \n",
       "\n",
       "   label_comp_ent_number  label_monitor_number  label_ind_cred_number  \n",
       "0                  0.241                   nan                  0.000  \n",
       "1                    nan                   nan                    nan  \n",
       "2                    nan                   nan                    nan  \n",
       "3                    nan                   nan                    nan  \n",
       "4                    nan                   nan                    nan  \n",
       "\n",
       "[5 rows x 30 columns]"
      ]
     },
     "execution_count": 16,
     "metadata": {},
     "output_type": "execute_result"
    }
   ],
   "source": [
    "preprocessed_data[label_distance_col].head()"
   ]
  },
  {
   "cell_type": "markdown",
   "metadata": {},
   "source": [
    "## 文本变量"
   ]
  },
  {
   "cell_type": "code",
   "execution_count": null,
   "metadata": {
    "collapsed": true
   },
   "outputs": [],
   "source": []
  },
  {
   "cell_type": "markdown",
   "metadata": {},
   "source": [
    "## 缺失值处理"
   ]
  },
  {
   "cell_type": "code",
   "execution_count": 17,
   "metadata": {
    "ExecuteTime": {
     "end_time": "2018-04-16T09:45:02.815458Z",
     "start_time": "2018-04-16T09:44:59.631276Z"
    }
   },
   "outputs": [
    {
     "data": {
      "text/plain": [
       "<matplotlib.axes._subplots.AxesSubplot at 0xfc20128>"
      ]
     },
     "execution_count": 17,
     "metadata": {},
     "output_type": "execute_result"
    },
    {
     "data": {
      "image/png": "[encoded data removed]",
      "text/plain": [
       "<matplotlib.figure.Figure at 0xc7747f0>"
      ]
     },
     "metadata": {},
     "output_type": "display_data"
    },
    {
     "data": {
      "image/png": "[encoded data removed]",
      "text/plain": [
       "<matplotlib.figure.Figure at 0xc774a90>"
      ]
     },
     "metadata": {},
     "output_type": "display_data"
    }
   ],
   "source": [
    "msno.matrix(preprocessed_data)\n",
    "msno.bar(preprocessed_data)"
   ]
  },
  {
   "cell_type": "markdown",
   "metadata": {},
   "source": [
    "# 特征工程"
   ]
  },
  {
   "cell_type": "code",
   "execution_count": 18,
   "metadata": {
    "ExecuteTime": {
     "end_time": "2018-04-16T09:45:04.243540Z",
     "start_time": "2018-04-16T09:45:02.818458Z"
    }
   },
   "outputs": [
    {
     "data": {
      "text/plain": [
       "(2260, 18)"
      ]
     },
     "execution_count": 18,
     "metadata": {},
     "output_type": "execute_result"
    }
   ],
   "source": [
    "col_list = ['label_distinct_name','label_category_name', 'label_company_main_type_name',\n",
    "        'label_company_cancellate_no','label_company_economic_region',\n",
    "        'label_company_oper_class', 'label_company_spe_trade_area',\n",
    "        'label_is_email','label_is_telephone', 'label_is_web_site', \n",
    "        'label_company_operat_state', 'label_company_annual_report',\n",
    "        'label_business_level',\n",
    "        'label_company_regis_capital', 'label_exist_days',\n",
    "        'label_employee_number','label_report_number', ]\n",
    "\n",
    "tmp_data = preprocessed_data.copy()\n",
    "tmp_data = tmp_data[col_list].join(credit_scroe['company_name'])\n",
    "\n",
    "# 有评分的数据(部分特征)\n",
    "feature_data = pd.merge(score_data[['company_name','score']], tmp_data, \n",
    "                        on = 'company_name', how = 'left')\n",
    "feature_data = feature_data.drop('company_name', axis = 1)\n",
    "feature_data = feature_data.dropna(axis = 0, how = 'any')\n",
    "file_name = result_folder +  '\\\\fdm_3\\\\csv_data\\\\creadit_score.xlsx'\n",
    "feature_data.to_excel(file_name, index = False)\n",
    "feature_data.shape"
   ]
  },
  {
   "cell_type": "code",
   "execution_count": 19,
   "metadata": {
    "ExecuteTime": {
     "end_time": "2018-04-16T09:45:04.286542Z",
     "start_time": "2018-04-16T09:45:04.249540Z"
    }
   },
   "outputs": [
    {
     "data": {
      "text/html": [
       "<div>\n",
       "<style>\n",
       "    .dataframe thead tr:only-child th {\n",
       "        text-align: right;\n",
       "    }\n",
       "\n",
       "    .dataframe thead th {\n",
       "        text-align: left;\n",
       "    }\n",
       "\n",
       "    .dataframe tbody tr th {\n",
       "        vertical-align: top;\n",
       "    }\n",
       "</style>\n",
       "<table border=\"1\" class=\"dataframe\">\n",
       "  <thead>\n",
       "    <tr style=\"text-align: right;\">\n",
       "      <th></th>\n",
       "      <th>label_distinct_name</th>\n",
       "      <th>label_category_name</th>\n",
       "      <th>label_company_main_type_name</th>\n",
       "      <th>label_company_cancellate_no</th>\n",
       "      <th>label_company_economic_region</th>\n",
       "      <th>label_company_oper_class</th>\n",
       "      <th>label_company_spe_trade_area</th>\n",
       "      <th>label_is_email</th>\n",
       "      <th>label_is_telephone</th>\n",
       "      <th>label_is_web_site</th>\n",
       "      <th>label_company_operat_state</th>\n",
       "      <th>label_company_annual_report</th>\n",
       "      <th>label_business_level</th>\n",
       "      <th>label_company_regis_capital</th>\n",
       "      <th>label_exist_days</th>\n",
       "      <th>label_employee_number</th>\n",
       "      <th>label_report_number</th>\n",
       "    </tr>\n",
       "  </thead>\n",
       "  <tbody>\n",
       "    <tr>\n",
       "      <th>0</th>\n",
       "      <td>11.000</td>\n",
       "      <td>5.000</td>\n",
       "      <td>4.000</td>\n",
       "      <td>1.000</td>\n",
       "      <td>1.000</td>\n",
       "      <td>4.000</td>\n",
       "      <td>1.000</td>\n",
       "      <td>2.000</td>\n",
       "      <td>2.000</td>\n",
       "      <td>2.000</td>\n",
       "      <td>4.000</td>\n",
       "      <td>2.000</td>\n",
       "      <td>4.000</td>\n",
       "      <td>0.005</td>\n",
       "      <td>0.182</td>\n",
       "      <td>0.012</td>\n",
       "      <td>1.000</td>\n",
       "    </tr>\n",
       "    <tr>\n",
       "      <th>1</th>\n",
       "      <td>13.000</td>\n",
       "      <td>5.000</td>\n",
       "      <td>3.000</td>\n",
       "      <td>1.000</td>\n",
       "      <td>1.000</td>\n",
       "      <td>4.000</td>\n",
       "      <td>1.000</td>\n",
       "      <td>2.000</td>\n",
       "      <td>2.000</td>\n",
       "      <td>2.000</td>\n",
       "      <td>4.000</td>\n",
       "      <td>2.000</td>\n",
       "      <td>3.000</td>\n",
       "      <td>0.010</td>\n",
       "      <td>0.198</td>\n",
       "      <td>0.008</td>\n",
       "      <td>1.000</td>\n",
       "    </tr>\n",
       "    <tr>\n",
       "      <th>2</th>\n",
       "      <td>13.000</td>\n",
       "      <td>5.000</td>\n",
       "      <td>3.000</td>\n",
       "      <td>1.000</td>\n",
       "      <td>1.000</td>\n",
       "      <td>4.000</td>\n",
       "      <td>1.000</td>\n",
       "      <td>2.000</td>\n",
       "      <td>2.000</td>\n",
       "      <td>1.000</td>\n",
       "      <td>4.000</td>\n",
       "      <td>4.000</td>\n",
       "      <td>3.000</td>\n",
       "      <td>0.000</td>\n",
       "      <td>0.266</td>\n",
       "      <td>0.009</td>\n",
       "      <td>1.000</td>\n",
       "    </tr>\n",
       "    <tr>\n",
       "      <th>3</th>\n",
       "      <td>13.000</td>\n",
       "      <td>5.000</td>\n",
       "      <td>9.000</td>\n",
       "      <td>1.000</td>\n",
       "      <td>1.000</td>\n",
       "      <td>4.000</td>\n",
       "      <td>1.000</td>\n",
       "      <td>2.000</td>\n",
       "      <td>2.000</td>\n",
       "      <td>1.000</td>\n",
       "      <td>4.000</td>\n",
       "      <td>2.000</td>\n",
       "      <td>3.000</td>\n",
       "      <td>0.000</td>\n",
       "      <td>0.236</td>\n",
       "      <td>0.009</td>\n",
       "      <td>1.000</td>\n",
       "    </tr>\n",
       "    <tr>\n",
       "      <th>4</th>\n",
       "      <td>13.000</td>\n",
       "      <td>5.000</td>\n",
       "      <td>3.000</td>\n",
       "      <td>1.000</td>\n",
       "      <td>1.000</td>\n",
       "      <td>4.000</td>\n",
       "      <td>1.000</td>\n",
       "      <td>2.000</td>\n",
       "      <td>2.000</td>\n",
       "      <td>1.000</td>\n",
       "      <td>4.000</td>\n",
       "      <td>4.000</td>\n",
       "      <td>3.000</td>\n",
       "      <td>0.000</td>\n",
       "      <td>0.337</td>\n",
       "      <td>0.008</td>\n",
       "      <td>1.000</td>\n",
       "    </tr>\n",
       "  </tbody>\n",
       "</table>\n",
       "</div>"
      ],
      "text/plain": [
       "   label_distinct_name  label_category_name  label_company_main_type_name  \\\n",
       "0               11.000                5.000                         4.000   \n",
       "1               13.000                5.000                         3.000   \n",
       "2               13.000                5.000                         3.000   \n",
       "3               13.000                5.000                         9.000   \n",
       "4               13.000                5.000                         3.000   \n",
       "\n",
       "   label_company_cancellate_no  label_company_economic_region  \\\n",
       "0                        1.000                          1.000   \n",
       "1                        1.000                          1.000   \n",
       "2                        1.000                          1.000   \n",
       "3                        1.000                          1.000   \n",
       "4                        1.000                          1.000   \n",
       "\n",
       "   label_company_oper_class  label_company_spe_trade_area  label_is_email  \\\n",
       "0                     4.000                         1.000           2.000   \n",
       "1                     4.000                         1.000           2.000   \n",
       "2                     4.000                         1.000           2.000   \n",
       "3                     4.000                         1.000           2.000   \n",
       "4                     4.000                         1.000           2.000   \n",
       "\n",
       "   label_is_telephone  label_is_web_site  label_company_operat_state  \\\n",
       "0               2.000              2.000                       4.000   \n",
       "1               2.000              2.000                       4.000   \n",
       "2               2.000              1.000                       4.000   \n",
       "3               2.000              1.000                       4.000   \n",
       "4               2.000              1.000                       4.000   \n",
       "\n",
       "   label_company_annual_report  label_business_level  \\\n",
       "0                        2.000                 4.000   \n",
       "1                        2.000                 3.000   \n",
       "2                        4.000                 3.000   \n",
       "3                        2.000                 3.000   \n",
       "4                        4.000                 3.000   \n",
       "\n",
       "   label_company_regis_capital  label_exist_days  label_employee_number  \\\n",
       "0                        0.005             0.182                  0.012   \n",
       "1                        0.010             0.198                  0.008   \n",
       "2                        0.000             0.266                  0.009   \n",
       "3                        0.000             0.236                  0.009   \n",
       "4                        0.000             0.337                  0.008   \n",
       "\n",
       "   label_report_number  \n",
       "0                1.000  \n",
       "1                1.000  \n",
       "2                1.000  \n",
       "3                1.000  \n",
       "4                1.000  "
      ]
     },
     "execution_count": 19,
     "metadata": {},
     "output_type": "execute_result"
    }
   ],
   "source": [
    "X = feature_data.drop('score', axis = 1)\n",
    "y = feature_data['score']\n",
    "X.head()"
   ]
  },
  {
   "cell_type": "code",
   "execution_count": 20,
   "metadata": {
    "ExecuteTime": {
     "end_time": "2018-04-16T09:45:05.827630Z",
     "start_time": "2018-04-16T09:45:04.297543Z"
    }
   },
   "outputs": [
    {
     "name": "stdout",
     "output_type": "stream",
     "text": [
      "data   (14091, 18)\n",
      "data_set   (3409, 18)\n"
     ]
    },
    {
     "data": {
      "image/png": "[encoded data removed]",
      "text/plain": [
       "<matplotlib.figure.Figure at 0xfd60b00>"
      ]
     },
     "metadata": {},
     "output_type": "display_data"
    },
    {
     "data": {
      "image/png": "[encoded data removed]",
      "text/plain": [
       "<matplotlib.figure.Figure at 0xdfe8cf8>"
      ]
     },
     "metadata": {},
     "output_type": "display_data"
    }
   ],
   "source": [
    "# 全部数据(部分特征)\n",
    "pre_data = preprocessed_data[col_list].dropna(axis = 0, how = 'any')\n",
    "\n",
    "col_lists = [x.replace('label_','') for x in col_list] + ['company_name']\n",
    "data = credit_scroe[col_lists]\n",
    "print('data  ', data.shape)\n",
    "data_set = data.dropna(how = 'any')\n",
    "print('data_set  ', data_set.shape)\n",
    "\n",
    "msno.matrix(data)\n",
    "msno.bar(data)\n",
    "\n",
    "file_name = result_folder + '\\\\fdm_3\\\\无缺失值公司名（%d）'%data_set.shape[0] + today + '.txt' \n",
    "file = open(file_name,\"w\")\n",
    "for index, name in enumerate(data_set['company_name'].tolist()):\n",
    "    file.write('%d %s'%(index+1, name) + '\\n')\n",
    "file.close()"
   ]
  },
  {
   "cell_type": "markdown",
   "metadata": {},
   "source": [
    "## 特征降维（decomposition）"
   ]
  },
  {
   "cell_type": "code",
   "execution_count": null,
   "metadata": {
    "collapsed": true
   },
   "outputs": [],
   "source": []
  },
  {
   "cell_type": "markdown",
   "metadata": {
    "ExecuteTime": {
     "end_time": "2018-04-13T01:16:17.524076Z",
     "start_time": "2018-04-13T01:16:17.509075Z"
    }
   },
   "source": [
    "## 特征选择（feature_selection）\n",
    "> - 特征是否发散：如果一个特征不发散，例如方差接近于0，也就是说样本在这个特征上基本上没有差异，这个特征对于样本的区分并没有什么用。\n",
    "> - 特征与目标的相关性：这点比较显见，与目标相关性高的特征，应当优选选择。\n",
    "> - 除方差法外，大部分方法均从相关性考虑。"
   ]
  },
  {
   "cell_type": "code",
   "execution_count": 21,
   "metadata": {
    "ExecuteTime": {
     "end_time": "2018-04-16T09:45:05.836631Z",
     "start_time": "2018-04-16T09:45:05.831630Z"
    },
    "collapsed": true
   },
   "outputs": [],
   "source": [
    "names = X.columns.tolist()    \n",
    "ranks = {} "
   ]
  },
  {
   "cell_type": "code",
   "execution_count": 45,
   "metadata": {
    "ExecuteTime": {
     "end_time": "2018-04-16T09:56:52.298038Z",
     "start_time": "2018-04-16T09:56:52.287037Z"
    },
    "collapsed": true
   },
   "outputs": [],
   "source": [
    " def rank_to_dict(ranks, names, order=1):  \n",
    "    minmax = preprocessing.MinMaxScaler()  \n",
    "    ranks = minmax.fit_transform(order*np.array([ranks]).T).T[0]  \n",
    "    ranks = map(lambda x: round(float(x), 3), ranks)  \n",
    "    data = dict(zip(names, ranks))\n",
    "    return  dict(sorted(data.items(), key=lambda d:d[1], reverse = True))"
   ]
  },
  {
   "cell_type": "code",
   "execution_count": 44,
   "metadata": {
    "ExecuteTime": {
     "end_time": "2018-04-16T09:54:07.143592Z",
     "start_time": "2018-04-16T09:54:07.124591Z"
    }
   },
   "outputs": [
    {
     "data": {
      "text/plain": [
       "{'label_business_level': 0.005,\n",
       " 'label_category_name': 0.425,\n",
       " 'label_company_annual_report': 0.032,\n",
       " 'label_company_cancellate_no': 0.005,\n",
       " 'label_company_economic_region': 0.041,\n",
       " 'label_company_main_type_name': 0.193,\n",
       " 'label_company_oper_class': 0.001,\n",
       " 'label_company_operat_state': 0.003,\n",
       " 'label_company_regis_capital': 0.0,\n",
       " 'label_company_spe_trade_area': 0.0,\n",
       " 'label_distinct_name': 1.0,\n",
       " 'label_employee_number': 0.0,\n",
       " 'label_exist_days': 0.0,\n",
       " 'label_is_email': 0.001,\n",
       " 'label_is_telephone': 0.001,\n",
       " 'label_is_web_site': 0.011,\n",
       " 'label_report_number': 0.0}"
      ]
     },
     "execution_count": 44,
     "metadata": {},
     "output_type": "execute_result"
    }
   ],
   "source": [
    "order = 1\n",
    "ranks = vt.variances_\n",
    "minmax = preprocessing.MinMaxScaler()  \n",
    "ranks = minmax.fit_transform(order*np.array([ranks]).T).T[0]  \n",
    "ranks = map(lambda x: round(float(x), 3), ranks)  \n",
    "data = dict(zip(names, ranks ))\n",
    "dict(sorted(data.items(), key=lambda d:d[1], reverse = True))"
   ]
  },
  {
   "cell_type": "markdown",
   "metadata": {},
   "source": [
    "### 过滤式 filter\n",
    "> -  按照发散性或者相关性对各个特征进行评分，设定阈值或者待选择阈值的个数，选择特征。"
   ]
  },
  {
   "cell_type": "markdown",
   "metadata": {},
   "source": [
    "#### 方差选择法\n",
    "> - 不适用，因为许多特征缩放到[0,1]之后，方差不会太大"
   ]
  },
  {
   "cell_type": "code",
   "execution_count": 46,
   "metadata": {
    "ExecuteTime": {
     "end_time": "2018-04-16T09:56:57.054310Z",
     "start_time": "2018-04-16T09:56:56.987306Z"
    }
   },
   "outputs": [
    {
     "ename": "TypeError",
     "evalue": "'map' object does not support item assignment",
     "output_type": "error",
     "traceback": [
      "\u001b[1;31m---------------------------------------------------------------------------\u001b[0m",
      "\u001b[1;31mTypeError\u001b[0m                                 Traceback (most recent call last)",
      "\u001b[1;32m<ipython-input-46-8e1f00740986>\u001b[0m in \u001b[0;36m<module>\u001b[1;34m()\u001b[0m\n\u001b[0;32m      2\u001b[0m \u001b[0mvt\u001b[0m \u001b[1;33m=\u001b[0m \u001b[0mfeature_selection\u001b[0m\u001b[1;33m.\u001b[0m\u001b[0mVarianceThreshold\u001b[0m\u001b[1;33m(\u001b[0m\u001b[0mthreshold\u001b[0m \u001b[1;33m=\u001b[0m \u001b[1;36m0.5\u001b[0m\u001b[1;33m)\u001b[0m\u001b[1;33m\u001b[0m\u001b[0m\n\u001b[0;32m      3\u001b[0m \u001b[0mx_train_vt\u001b[0m \u001b[1;33m=\u001b[0m \u001b[0mvt\u001b[0m\u001b[1;33m.\u001b[0m\u001b[0mfit_transform\u001b[0m\u001b[1;33m(\u001b[0m\u001b[0mX\u001b[0m\u001b[1;33m)\u001b[0m\u001b[1;33m\u001b[0m\u001b[0m\n\u001b[1;32m----> 4\u001b[1;33m \u001b[0mranks\u001b[0m\u001b[1;33m[\u001b[0m\u001b[1;34m\"vt\"\u001b[0m\u001b[1;33m]\u001b[0m \u001b[1;33m=\u001b[0m \u001b[0mrank_to_dict\u001b[0m\u001b[1;33m(\u001b[0m\u001b[0mvt\u001b[0m\u001b[1;33m.\u001b[0m\u001b[0mvariances_\u001b[0m\u001b[1;33m,\u001b[0m \u001b[0mnames\u001b[0m\u001b[1;33m)\u001b[0m\u001b[1;33m\u001b[0m\u001b[0m\n\u001b[0m\u001b[0;32m      5\u001b[0m \u001b[1;33m\u001b[0m\u001b[0m\n\u001b[0;32m      6\u001b[0m \u001b[0mfeature_names\u001b[0m \u001b[1;33m=\u001b[0m \u001b[1;33m[\u001b[0m\u001b[0mX\u001b[0m\u001b[1;33m.\u001b[0m\u001b[0mcolumns\u001b[0m\u001b[1;33m[\u001b[0m\u001b[0mi\u001b[0m\u001b[1;33m]\u001b[0m \u001b[1;32mfor\u001b[0m \u001b[0mi\u001b[0m \u001b[1;32min\u001b[0m \u001b[0mvt\u001b[0m\u001b[1;33m.\u001b[0m\u001b[0mget_support\u001b[0m\u001b[1;33m(\u001b[0m\u001b[0mindices\u001b[0m\u001b[1;33m=\u001b[0m\u001b[1;32mTrue\u001b[0m\u001b[1;33m)\u001b[0m\u001b[1;33m]\u001b[0m\u001b[1;33m\u001b[0m\u001b[0m\n",
      "\u001b[1;31mTypeError\u001b[0m: 'map' object does not support item assignment"
     ]
    }
   ],
   "source": [
    "# 移除所有方差小于阈值的特征，默认为0\n",
    "vt = feature_selection.VarianceThreshold(threshold = 0.5)\n",
    "x_train_vt = vt.fit_transform(X)\n",
    "ranks[\"vt\"] = rank_to_dict(vt.variances_, names)\n",
    "\n",
    "feature_names = [X.columns[i] for i in vt.get_support(indices=True)]\n",
    "print(feature_names)\n",
    "ranks[\"vt\"]"
   ]
  },
  {
   "cell_type": "code",
   "execution_count": 37,
   "metadata": {
    "ExecuteTime": {
     "end_time": "2018-04-16T09:50:36.077519Z",
     "start_time": "2018-04-16T09:50:36.029517Z"
    }
   },
   "outputs": [
    {
     "ename": "TypeError",
     "evalue": "'map' object does not support item assignment",
     "output_type": "error",
     "traceback": [
      "\u001b[1;31m---------------------------------------------------------------------------\u001b[0m",
      "\u001b[1;31mTypeError\u001b[0m                                 Traceback (most recent call last)",
      "\u001b[1;32m<ipython-input-37-809546f833af>\u001b[0m in \u001b[0;36m<module>\u001b[1;34m()\u001b[0m\n\u001b[0;32m      1\u001b[0m \u001b[0mf\u001b[0m\u001b[1;33m,\u001b[0m \u001b[0mpval\u001b[0m  \u001b[1;33m=\u001b[0m \u001b[0mfeature_selection\u001b[0m\u001b[1;33m.\u001b[0m\u001b[0mf_regression\u001b[0m\u001b[1;33m(\u001b[0m\u001b[0mX\u001b[0m\u001b[1;33m,\u001b[0m \u001b[0my\u001b[0m\u001b[1;33m,\u001b[0m \u001b[0mcenter\u001b[0m\u001b[1;33m=\u001b[0m\u001b[1;32mTrue\u001b[0m\u001b[1;33m)\u001b[0m\u001b[1;33m\u001b[0m\u001b[0m\n\u001b[1;32m----> 2\u001b[1;33m \u001b[0mranks\u001b[0m\u001b[1;33m[\u001b[0m\u001b[1;34m\"Corr.\"\u001b[0m\u001b[1;33m]\u001b[0m \u001b[1;33m=\u001b[0m \u001b[0mrank_to_dict\u001b[0m\u001b[1;33m(\u001b[0m\u001b[0mnp\u001b[0m\u001b[1;33m.\u001b[0m\u001b[0mnan_to_num\u001b[0m\u001b[1;33m(\u001b[0m\u001b[0mf\u001b[0m\u001b[1;33m)\u001b[0m\u001b[1;33m,\u001b[0m \u001b[0mnames\u001b[0m\u001b[1;33m)\u001b[0m\u001b[1;33m\u001b[0m\u001b[0m\n\u001b[0m\u001b[0;32m      3\u001b[0m \u001b[0mranks\u001b[0m\u001b[1;33m[\u001b[0m\u001b[1;34m\"Corr.\"\u001b[0m\u001b[1;33m]\u001b[0m\u001b[1;33m\u001b[0m\u001b[0m\n",
      "\u001b[1;31mTypeError\u001b[0m: 'map' object does not support item assignment"
     ]
    }
   ],
   "source": [
    "f, pval  = feature_selection.f_regression(X, y, center=True)  \n",
    "ranks[\"Corr.\"] = rank_to_dict(np.nan_to_num(f), names)\n",
    "ranks[\"Corr.\"]"
   ]
  },
  {
   "cell_type": "markdown",
   "metadata": {},
   "source": [
    "#### 相关系数法"
   ]
  },
  {
   "cell_type": "code",
   "execution_count": 38,
   "metadata": {
    "ExecuteTime": {
     "end_time": "2018-04-16T09:50:49.226271Z",
     "start_time": "2018-04-16T09:50:49.182269Z"
    }
   },
   "outputs": [
    {
     "ename": "NameError",
     "evalue": "name 'mic_scores' is not defined",
     "output_type": "error",
     "traceback": [
      "\u001b[1;31m---------------------------------------------------------------------------\u001b[0m",
      "\u001b[1;31mNameError\u001b[0m                                 Traceback (most recent call last)",
      "\u001b[1;32m<ipython-input-38-763b9375ffab>\u001b[0m in \u001b[0;36m<module>\u001b[1;34m()\u001b[0m\n\u001b[0;32m      8\u001b[0m     \u001b[0mp_values\u001b[0m\u001b[1;33m.\u001b[0m\u001b[0mappend\u001b[0m\u001b[1;33m(\u001b[0m\u001b[0mp\u001b[0m\u001b[1;33m)\u001b[0m\u001b[1;33m\u001b[0m\u001b[0m\n\u001b[0;32m      9\u001b[0m \u001b[1;33m\u001b[0m\u001b[0m\n\u001b[1;32m---> 10\u001b[1;33m \u001b[0mranks\u001b[0m\u001b[1;33m[\u001b[0m\u001b[1;34m\"pearsonr\"\u001b[0m\u001b[1;33m]\u001b[0m \u001b[1;33m=\u001b[0m \u001b[0mrank_to_dict\u001b[0m\u001b[1;33m(\u001b[0m\u001b[0mmic_scores\u001b[0m\u001b[1;33m,\u001b[0m \u001b[0mnames\u001b[0m\u001b[1;33m)\u001b[0m\u001b[1;33m\u001b[0m\u001b[0m\n\u001b[0m\u001b[0;32m     11\u001b[0m \u001b[1;31m# for i in range(len(p_values)): print('%0.3f'%p_values[i])\u001b[0m\u001b[1;33m\u001b[0m\u001b[1;33m\u001b[0m\u001b[0m\n\u001b[0;32m     12\u001b[0m \u001b[0mranks\u001b[0m\u001b[1;33m[\u001b[0m\u001b[1;34m\"pearsonr\"\u001b[0m\u001b[1;33m]\u001b[0m\u001b[1;33m\u001b[0m\u001b[0m\n",
      "\u001b[1;31mNameError\u001b[0m: name 'mic_scores' is not defined"
     ]
    }
   ],
   "source": [
    "from scipy.stats import pearsonr \n",
    "\n",
    "r_values = []\n",
    "p_values = []\n",
    "for i in range(X.shape[1]):  \n",
    "    r, p = pearsonr(X.iloc[:,i], y)  \n",
    "    r_values.append(r)\n",
    "    p_values.append(p)\n",
    "\n",
    "ranks[\"pearsonr\"] = rank_to_dict(mic_scores, names) \n",
    "# for i in range(len(p_values)): print('%0.3f'%p_values[i])\n",
    "ranks[\"pearsonr\"]"
   ]
  },
  {
   "cell_type": "markdown",
   "metadata": {},
   "source": [
    "#### 卡方检验"
   ]
  },
  {
   "cell_type": "code",
   "execution_count": 204,
   "metadata": {
    "ExecuteTime": {
     "end_time": "2018-04-16T09:00:19.422977Z",
     "start_time": "2018-04-16T09:00:19.351973Z"
    }
   },
   "outputs": [
    {
     "name": "stdout",
     "output_type": "stream",
     "text": [
      "['label_distinct_name', 'label_category_name', 'label_company_main_type_name', 'label_company_economic_region', 'label_is_web_site']\n"
     ]
    },
    {
     "data": {
      "text/plain": [
       "[('label_distinct_name', 1.0),\n",
       " ('label_company_main_type_name', 0.302),\n",
       " ('label_category_name', 0.208),\n",
       " ('label_company_economic_region', 0.085),\n",
       " ('label_is_web_site', 0.082),\n",
       " ('label_company_annual_report', 0.033),\n",
       " ('label_exist_days', 0.02),\n",
       " ('label_company_regis_capital', 0.018),\n",
       " ('label_company_cancellate_no', 0.013),\n",
       " ('label_business_level', 0.006),\n",
       " ('label_employee_number', 0.005),\n",
       " ('label_company_operat_state', 0.003),\n",
       " ('label_report_number', 0.002),\n",
       " ('label_company_oper_class', 0.001),\n",
       " ('label_is_email', 0.001),\n",
       " ('label_is_telephone', 0.001),\n",
       " ('label_company_spe_trade_area', 0.0)]"
      ]
     },
     "execution_count": 204,
     "metadata": {},
     "output_type": "execute_result"
    }
   ],
   "source": [
    "#选择K个最好的特征，返回选择特征后的数据\n",
    "ch2 = feature_selection.SelectKBest(feature_selection.chi2, k = 5)\n",
    "X_train_ch2 = ch2.fit_transform(feature_data.drop('score', axis = 1), feature_data['score'])\n",
    "ranks[\"ch2\"] = rank_to_dict(ch2.scores_, names)\n",
    "\n",
    "# keep selected feature names\n",
    "feature_names = [feature_data.drop('score', axis = 1).columns[i] for i in ch2.get_support(indices=True)]\n",
    "print(feature_names)\n",
    "ranks[\"ch2\"]"
   ]
  },
  {
   "cell_type": "markdown",
   "metadata": {},
   "source": [
    "#### 互信息法"
   ]
  },
  {
   "cell_type": "code",
   "execution_count": 206,
   "metadata": {
    "ExecuteTime": {
     "end_time": "2018-04-16T09:00:35.387890Z",
     "start_time": "2018-04-16T09:00:34.418834Z"
    }
   },
   "outputs": [
    {
     "data": {
      "text/plain": [
       "[('label_company_regis_capital', 1.0),\n",
       " ('label_employee_number', 0.583),\n",
       " ('label_exist_days', 0.517),\n",
       " ('label_is_web_site', 0.391),\n",
       " ('label_distinct_name', 0.331),\n",
       " ('label_company_main_type_name', 0.24),\n",
       " ('label_business_level', 0.139),\n",
       " ('label_category_name', 0.13),\n",
       " ('label_report_number', 0.117),\n",
       " ('label_company_operat_state', 0.091),\n",
       " ('label_company_cancellate_no', 0.087),\n",
       " ('label_company_annual_report', 0.086),\n",
       " ('label_company_economic_region', 0.082),\n",
       " ('label_is_email', 0.078),\n",
       " ('label_is_telephone', 0.077),\n",
       " ('label_company_oper_class', 0.059),\n",
       " ('label_company_spe_trade_area', 0.0)]"
      ]
     },
     "execution_count": 206,
     "metadata": {},
     "output_type": "execute_result"
    }
   ],
   "source": [
    "mine = MINE()  \n",
    "mic_scores = []  \n",
    "for i in range(X.shape[1]):  \n",
    "    mine.compute_score(X.iloc[:,i], y)  \n",
    "    m = mine.mic()  \n",
    "    mic_scores.append(m)   \n",
    "    \n",
    "ranks[\"mic\"] = rank_to_dict(mic_scores, names) \n",
    "ranks[\"mic\"]"
   ]
  },
  {
   "cell_type": "markdown",
   "metadata": {},
   "source": [
    "### 包裹式 wrapper\n",
    "> - 根据目标函数（通常是预测效果评分），每次选择若干特征，或者排除若干特征。"
   ]
  },
  {
   "cell_type": "markdown",
   "metadata": {},
   "source": [
    "#### 递归特征消除法\n",
    "> - 递归消除特征法使用一个基模型来进行多轮训练，每轮训练后，消除若干权值系数的特征，再基于新的特征集进行下一轮训练。"
   ]
  },
  {
   "cell_type": "code",
   "execution_count": null,
   "metadata": {
    "ExecuteTime": {
     "start_time": "2018-04-16T09:25:47.408Z"
    }
   },
   "outputs": [
    {
     "data": {
      "text/plain": [
       "[('label_company_oper_class', 1.0),\n",
       " ('label_is_telephone', 1.0),\n",
       " ('label_is_web_site', 1.0),\n",
       " ('label_business_level', 1.0),\n",
       " ('label_exist_days', 1.0),\n",
       " ('label_report_number', 0.917),\n",
       " ('label_company_cancellate_no', 0.833),\n",
       " ('label_is_email', 0.75),\n",
       " ('label_company_operat_state', 0.667),\n",
       " ('label_company_main_type_name', 0.583),\n",
       " ('label_company_economic_region', 0.5),\n",
       " ('label_company_annual_report', 0.417),\n",
       " ('label_company_spe_trade_area', 0.333),\n",
       " ('label_category_name', 0.25),\n",
       " ('label_company_regis_capital', 0.167),\n",
       " ('label_distinct_name', 0.083),\n",
       " ('label_employee_number', 0.0)]"
      ]
     },
     "execution_count": 230,
     "metadata": {},
     "output_type": "execute_result"
    }
   ],
   "source": [
    "# 参数estimator为基模型 \n",
    "#stop the search when 5 features are left (they will get equal scores)  \n",
    "rfe = feature_selection.RFE(estimator = linear_model.LogisticRegression(), \n",
    "                            n_features_to_select=5)  \n",
    "rfe.fit(X,y)  \n",
    "ranks[\"rfe\"] = rank_to_dict(rfe.ranking_, names, order=-1)  \n",
    "ranks[\"rfe\"]"
   ]
  },
  {
   "cell_type": "code",
   "execution_count": null,
   "metadata": {
    "ExecuteTime": {
     "start_time": "2018-04-16T09:13:35.385Z"
    }
   },
   "outputs": [
    {
     "name": "stdout",
     "output_type": "stream",
     "text": [
      " -- linearR --    [('label_employee_number', 1.0), ('label_company_regis_capital', 0.323), ('label_exist_days', 0.042), ('label_is_telephone', 0.017), ('label_is_email', 0.01), ('label_is_web_site', 0.007), ('label_report_number', 0.007), ('label_company_cancellate_no', 0.003), ('label_business_level', 0.002), ('label_company_main_type_name', 0.001), ('label_company_operat_state', 0.001), ('label_company_annual_report', 0.001), ('label_distinct_name', 0.0), ('label_category_name', 0.0), ('label_company_economic_region', 0.0), ('label_company_oper_class', 0.0), ('label_company_spe_trade_area', 0.0)]\n",
      " -- Ridge --    [('label_exist_days', 1.0), ('label_company_regis_capital', 0.267), ('label_is_telephone', 0.262), ('label_is_web_site', 0.256), ('label_employee_number', 0.226), ('label_report_number', 0.192), ('label_business_level', 0.11), ('label_is_email', 0.081), ('label_company_operat_state', 0.072), ('label_company_cancellate_no', 0.057), ('label_company_main_type_name', 0.028), ('label_distinct_name', 0.016), ('label_company_economic_region', 0.015), ('label_company_oper_class', 0.012), ('label_company_annual_report', 0.009), ('label_category_name', 0.002), ('label_company_spe_trade_area', 0.0)]\n",
      " -- Lasso --    [('label_exist_days', 1.0), ('label_is_web_site', 0.201), ('label_is_telephone', 0.196), ('label_business_level', 0.073), ('label_company_operat_state', 0.051), ('label_company_cancellate_no', 0.048), ('label_report_number', 0.046), ('label_company_main_type_name', 0.022), ('label_distinct_name', 0.013), ('label_company_economic_region', 0.011), ('label_company_annual_report', 0.003), ('label_category_name', 0.001), ('label_company_oper_class', 0.0), ('label_company_spe_trade_area', 0.0), ('label_is_email', 0.0), ('label_company_regis_capital', 0.0), ('label_employee_number', 0.0)]\n"
     ]
    }
   ],
   "source": [
    "estimators = [linear_model.LinearRegression(normalize=True), \n",
    "              linear_model.Ridge(alpha=7), \n",
    "              linear_model.Lasso(alpha=.05)]\n",
    "est_names = ['linearR', 'Ridge', 'Lasso']\n",
    "\n",
    "for est_name, estimator in zip(est_names, estimators):\n",
    "    linear = estimator\n",
    "    linear.fit(X, y)\n",
    "    ranks[est_name] = rank_to_dict(np.abs(linear.coef_), names)\n",
    "    print(' -- %s --   '%est_name, ranks[est_name])                     "
   ]
  },
  {
   "cell_type": "markdown",
   "metadata": {},
   "source": [
    "#### 稳定性选择 Stability selection"
   ]
  },
  {
   "cell_type": "code",
   "execution_count": null,
   "metadata": {
    "ExecuteTime": {
     "start_time": "2018-04-16T09:24:26.524Z"
    }
   },
   "outputs": [
    {
     "name": "stderr",
     "output_type": "stream",
     "text": [
      "D:\\software\\conda\\lib\\site-packages\\sklearn\\utils\\deprecation.py:58: DeprecationWarning: Class RandomizedLasso is deprecated; The class RandomizedLasso is deprecated in 0.19 and will be removed in 0.21.\n",
      "  warnings.warn(msg, category=DeprecationWarning)\n"
     ]
    },
    {
     "data": {
      "text/plain": [
       "[('label_employee_number', 1.0),\n",
       " ('label_exist_days', 0.665),\n",
       " ('label_is_web_site', 0.635),\n",
       " ('label_distinct_name', 0.465),\n",
       " ('label_company_regis_capital', 0.46),\n",
       " ('label_business_level', 0.065),\n",
       " ('label_company_main_type_name', 0.005),\n",
       " ('label_report_number', 0.005),\n",
       " ('label_category_name', 0.0),\n",
       " ('label_company_cancellate_no', 0.0),\n",
       " ('label_company_economic_region', 0.0),\n",
       " ('label_company_oper_class', 0.0),\n",
       " ('label_company_spe_trade_area', 0.0),\n",
       " ('label_is_email', 0.0),\n",
       " ('label_is_telephone', 0.0),\n",
       " ('label_company_operat_state', 0.0),\n",
       " ('label_company_annual_report', 0.0)]"
      ]
     },
     "execution_count": 229,
     "metadata": {},
     "output_type": "execute_result"
    }
   ],
   "source": [
    "rlasso = linear_model.RandomizedLasso(alpha=0.04)  \n",
    "rlasso.fit(X, y)  \n",
    "ranks[\"Stability\"] = rank_to_dict(np.abs(rlasso.scores_), names)\n",
    "ranks['Stability']"
   ]
  },
  {
   "cell_type": "markdown",
   "metadata": {},
   "source": [
    "### 嵌入式 embedding\n",
    "> - 先使用某些机器学习的算法和模型进行训练，得到各个特征的权值系数，根据系数从大到小选择特征。\n",
    "> - 类似于Filter方法，但是是通过训练来确定特征的优劣。"
   ]
  },
  {
   "cell_type": "markdown",
   "metadata": {},
   "source": [
    "#### 基于惩罚项的特征选择法\n",
    "> - 使用带惩罚项的基模型，除了筛选出特征外，同时也进行了降维。"
   ]
  },
  {
   "cell_type": "code",
   "execution_count": 47,
   "metadata": {
    "ExecuteTime": {
     "end_time": "2018-04-16T10:05:09.709488Z",
     "start_time": "2018-04-16T10:05:08.284407Z"
    }
   },
   "outputs": [
    {
     "data": {
      "text/plain": [
       "array([[ 11.,   5.,   4., ...,   4.,   2.,   4.],\n",
       "       [ 13.,   5.,   3., ...,   4.,   2.,   3.],\n",
       "       [ 13.,   5.,   3., ...,   4.,   4.,   3.],\n",
       "       ..., \n",
       "       [  1.,  16.,   4., ...,   4.,   1.,   3.],\n",
       "       [  4.,   5.,   4., ...,   4.,   4.,   3.],\n",
       "       [  3.,   5.,   4., ...,   4.,   1.,   3.]])"
      ]
     },
     "execution_count": 47,
     "metadata": {},
     "output_type": "execute_result"
    }
   ],
   "source": [
    "from sklearn.feature_selection import SelectFromModel \n",
    "from sklearn.linear_model import LogisticRegression \n",
    "#带L1惩罚项的逻辑回归作为基模型的特征选择\n",
    "SelectFromModel(LogisticRegression(penalty=\"l1\", C=0.1)).fit_transform(X, y)"
   ]
  },
  {
   "cell_type": "code",
   "execution_count": null,
   "metadata": {
    "collapsed": true
   },
   "outputs": [],
   "source": []
  },
  {
   "cell_type": "code",
   "execution_count": null,
   "metadata": {
    "collapsed": true
   },
   "outputs": [],
   "source": []
  },
  {
   "cell_type": "code",
   "execution_count": null,
   "metadata": {
    "collapsed": true
   },
   "outputs": [],
   "source": []
  },
  {
   "cell_type": "markdown",
   "metadata": {},
   "source": [
    "#### 基于树模型的特征选择法（GBDT）\n",
    "> - 基于树的估计器可用于评估特征的重要性，从而去除不相关的特征"
   ]
  },
  {
   "cell_type": "code",
   "execution_count": 48,
   "metadata": {
    "ExecuteTime": {
     "end_time": "2018-04-16T10:06:24.925790Z",
     "start_time": "2018-04-16T10:05:54.333041Z"
    }
   },
   "outputs": [
    {
     "data": {
      "text/plain": [
       "array([[  1.10000000e+01,   4.55949092e-03,   1.82218832e-01],\n",
       "       [  1.30000000e+01,   9.93981847e-03,   1.97898127e-01],\n",
       "       [  1.30000000e+01,   2.46645620e-04,   2.66293754e-01],\n",
       "       ..., \n",
       "       [  1.00000000e+00,   6.55880032e-04,   2.43579964e-01],\n",
       "       [  4.00000000e+00,   3.69968429e-04,   1.30095771e-01],\n",
       "       [  3.00000000e+00,   9.61917916e-04,   1.02974828e-01]])"
      ]
     },
     "execution_count": 48,
     "metadata": {},
     "output_type": "execute_result"
    }
   ],
   "source": [
    "from sklearn.feature_selection import SelectFromModel\n",
    "from sklearn.ensemble import GradientBoostingClassifier\n",
    "#GBDT作为基模型的特征选择\n",
    "SelectFromModel(GradientBoostingClassifier()).fit_transform(X, y)"
   ]
  },
  {
   "cell_type": "code",
   "execution_count": null,
   "metadata": {
    "ExecuteTime": {
     "start_time": "2018-04-16T09:28:20.886Z"
    },
    "collapsed": true
   },
   "outputs": [],
   "source": [
    "rf = ensemble.RandomForestRegressor(n_estimators=20, max_depth=4)  \n",
    "rf.fit(X,y)  \n",
    "ranks[\"rf_1\"] = rank_to_dict(rf.feature_importances_, names) \n",
    "ranks[\"rf_1\"]"
   ]
  },
  {
   "cell_type": "code",
   "execution_count": null,
   "metadata": {
    "collapsed": true
   },
   "outputs": [],
   "source": [
    "rf = RandomForestRegressor()  \n",
    "rf_names = []\n",
    "scores = []  \n",
    "for i in range(X.shape[1]):  \n",
    "    score = cross_val_score(rf, X[:, i:i+1], Y, scoring=\"r2\",  \n",
    "                            cv=ShuffleSplit(len(X), 3, .3))  \n",
    "    rf_names.append(names[i])\n",
    "    scores.append(np.mean(score)) \n",
    "\n",
    "ranks[\"rf_2\"] = rank_to_dict(scores, rf_names)\n",
    "ranks[\"rf_2\"]"
   ]
  },
  {
   "cell_type": "markdown",
   "metadata": {},
   "source": [
    "### 特征选择结果"
   ]
  },
  {
   "cell_type": "code",
   "execution_count": null,
   "metadata": {
    "ExecuteTime": {
     "start_time": "2018-04-16T09:40:40.075Z"
    }
   },
   "outputs": [
    {
     "data": {
      "text/plain": [
       "tuple"
      ]
     },
     "execution_count": 244,
     "metadata": {},
     "output_type": "execute_result"
    }
   ],
   "source": [
    "type(ranks['Lasso'][0])"
   ]
  },
  {
   "cell_type": "code",
   "execution_count": null,
   "metadata": {
    "ExecuteTime": {
     "start_time": "2018-04-16T09:38:10.321Z"
    }
   },
   "outputs": [
    {
     "ename": "TypeError",
     "evalue": "list indices must be integers or slices, not str",
     "output_type": "error",
     "traceback": [
      "\u001b[1;31m---------------------------------------------------------------------------\u001b[0m",
      "\u001b[1;31mTypeError\u001b[0m                                 Traceback (most recent call last)",
      "\u001b[1;32m<ipython-input-234-66b28d586743>\u001b[0m in \u001b[0;36m<module>\u001b[1;34m()\u001b[0m\n\u001b[0;32m      1\u001b[0m \u001b[0mr\u001b[0m \u001b[1;33m=\u001b[0m \u001b[1;33m{\u001b[0m\u001b[1;33m}\u001b[0m\u001b[1;33m\u001b[0m\u001b[0m\n\u001b[0;32m      2\u001b[0m \u001b[1;32mfor\u001b[0m \u001b[0mname\u001b[0m \u001b[1;32min\u001b[0m \u001b[0mnames\u001b[0m\u001b[1;33m:\u001b[0m\u001b[1;33m\u001b[0m\u001b[0m\n\u001b[1;32m----> 3\u001b[1;33m     \u001b[0mr\u001b[0m\u001b[1;33m[\u001b[0m\u001b[0mname\u001b[0m\u001b[1;33m]\u001b[0m \u001b[1;33m=\u001b[0m \u001b[0mnp\u001b[0m\u001b[1;33m.\u001b[0m\u001b[0mmean\u001b[0m\u001b[1;33m(\u001b[0m\u001b[1;33m[\u001b[0m\u001b[0mranks\u001b[0m\u001b[1;33m[\u001b[0m\u001b[0mmethod\u001b[0m\u001b[1;33m]\u001b[0m\u001b[1;33m[\u001b[0m\u001b[0mname\u001b[0m\u001b[1;33m]\u001b[0m \u001b[1;32mfor\u001b[0m \u001b[0mmethod\u001b[0m \u001b[1;32min\u001b[0m \u001b[0mranks\u001b[0m\u001b[1;33m.\u001b[0m\u001b[0mkeys\u001b[0m\u001b[1;33m(\u001b[0m\u001b[1;33m)\u001b[0m\u001b[1;33m]\u001b[0m\u001b[1;33m)\u001b[0m\u001b[1;33m\u001b[0m\u001b[0m\n\u001b[0m\u001b[0;32m      4\u001b[0m \u001b[1;33m\u001b[0m\u001b[0m\n\u001b[0;32m      5\u001b[0m \u001b[0mmethods\u001b[0m \u001b[1;33m=\u001b[0m \u001b[0msorted\u001b[0m\u001b[1;33m(\u001b[0m\u001b[0mranks\u001b[0m\u001b[1;33m.\u001b[0m\u001b[0mkeys\u001b[0m\u001b[1;33m(\u001b[0m\u001b[1;33m)\u001b[0m\u001b[1;33m)\u001b[0m\u001b[1;33m\u001b[0m\u001b[0m\n",
      "\u001b[1;32m<ipython-input-234-66b28d586743>\u001b[0m in \u001b[0;36m<listcomp>\u001b[1;34m(.0)\u001b[0m\n\u001b[0;32m      1\u001b[0m \u001b[0mr\u001b[0m \u001b[1;33m=\u001b[0m \u001b[1;33m{\u001b[0m\u001b[1;33m}\u001b[0m\u001b[1;33m\u001b[0m\u001b[0m\n\u001b[0;32m      2\u001b[0m \u001b[1;32mfor\u001b[0m \u001b[0mname\u001b[0m \u001b[1;32min\u001b[0m \u001b[0mnames\u001b[0m\u001b[1;33m:\u001b[0m\u001b[1;33m\u001b[0m\u001b[0m\n\u001b[1;32m----> 3\u001b[1;33m     \u001b[0mr\u001b[0m\u001b[1;33m[\u001b[0m\u001b[0mname\u001b[0m\u001b[1;33m]\u001b[0m \u001b[1;33m=\u001b[0m \u001b[0mnp\u001b[0m\u001b[1;33m.\u001b[0m\u001b[0mmean\u001b[0m\u001b[1;33m(\u001b[0m\u001b[1;33m[\u001b[0m\u001b[0mranks\u001b[0m\u001b[1;33m[\u001b[0m\u001b[0mmethod\u001b[0m\u001b[1;33m]\u001b[0m\u001b[1;33m[\u001b[0m\u001b[0mname\u001b[0m\u001b[1;33m]\u001b[0m \u001b[1;32mfor\u001b[0m \u001b[0mmethod\u001b[0m \u001b[1;32min\u001b[0m \u001b[0mranks\u001b[0m\u001b[1;33m.\u001b[0m\u001b[0mkeys\u001b[0m\u001b[1;33m(\u001b[0m\u001b[1;33m)\u001b[0m\u001b[1;33m]\u001b[0m\u001b[1;33m)\u001b[0m\u001b[1;33m\u001b[0m\u001b[0m\n\u001b[0m\u001b[0;32m      4\u001b[0m \u001b[1;33m\u001b[0m\u001b[0m\n\u001b[0;32m      5\u001b[0m \u001b[0mmethods\u001b[0m \u001b[1;33m=\u001b[0m \u001b[0msorted\u001b[0m\u001b[1;33m(\u001b[0m\u001b[0mranks\u001b[0m\u001b[1;33m.\u001b[0m\u001b[0mkeys\u001b[0m\u001b[1;33m(\u001b[0m\u001b[1;33m)\u001b[0m\u001b[1;33m)\u001b[0m\u001b[1;33m\u001b[0m\u001b[0m\n",
      "\u001b[1;31mTypeError\u001b[0m: list indices must be integers or slices, not str"
     ]
    }
   ],
   "source": [
    "r = {}  \n",
    "for name in names:  \n",
    "    r[name] = np.mean([ranks[method][name] for method in ranks.keys()])\n",
    "\n",
    "methods = sorted(ranks.keys())  \n",
    "ranks[\"Mean\"] = r  \n",
    "methods.append(\"Mean\")  \n",
    "  \n",
    "print (\"\\t%s\" % \"\\t\".join(methods))  \n",
    "for name in names:  \n",
    "    print (\"%s\\t%s\" % (name, \"\\t\".join(map(str,   \n",
    "                         [ranks[method][name] for method in methods])))) "
   ]
  },
  {
   "cell_type": "markdown",
   "metadata": {},
   "source": [
    "# 划分数据集"
   ]
  },
  {
   "cell_type": "markdown",
   "metadata": {
    "collapsed": true
   },
   "source": [
    "## 回归数据划分\n",
    "> - 考虑 Y 变量的分布"
   ]
  },
  {
   "cell_type": "code",
   "execution_count": 123,
   "metadata": {
    "ExecuteTime": {
     "end_time": "2018-04-16T06:26:37.996541Z",
     "start_time": "2018-04-16T06:26:37.956539Z"
    },
    "collapsed": true
   },
   "outputs": [],
   "source": [
    "test_size = 0.2\n",
    "X_train, X_test, y_train, y_test = train_test_split(X, y, test_size = test_size)"
   ]
  },
  {
   "cell_type": "code",
   "execution_count": 124,
   "metadata": {
    "ExecuteTime": {
     "end_time": "2018-04-16T06:26:45.889993Z",
     "start_time": "2018-04-16T06:26:39.371620Z"
    }
   },
   "outputs": [
    {
     "name": "stdout",
     "output_type": "stream",
     "text": [
      "-- 预测数据集： (2260,)\n",
      "-- 预测训练数据集： (1808,)\n",
      "-- 预测测试数据集： (452,)\n"
     ]
    },
    {
     "data": {
      "text/plain": [
       "<function matplotlib.pyplot.show>"
      ]
     },
     "execution_count": 124,
     "metadata": {},
     "output_type": "execute_result"
    },
    {
     "data": {
      "image/png": "[encoded data removed]",
      "text/plain": [
       "<matplotlib.figure.Figure at 0xfd0d710>"
      ]
     },
     "metadata": {},
     "output_type": "display_data"
    }
   ],
   "source": [
    "print('-- 预测数据集：', y.shape)\n",
    "print('-- 预测训练数据集：', y_train.shape)\n",
    "print('-- 预测测试数据集：', y_test.shape)\n",
    "\n",
    "fig, axs = plt.subplots(figsize = (15,6))\n",
    "\n",
    "sns.kdeplot(y, ax = axs)\n",
    "sns.kdeplot(y_train, ax = axs)\n",
    "sns.kdeplot(y_test, ax = axs)\n",
    "\n",
    "sns.rugplot(y, ax = axs, color=\"b\", height = 0.05)\n",
    "# sns.rugplot(y_test, ax = axs, color=\"b\")\n",
    "\n",
    "axs.legend(['y', 'y_train', 'y_test', 'y'])\n",
    "\n",
    "plt.show"
   ]
  },
  {
   "cell_type": "markdown",
   "metadata": {
    "heading_collapsed": true
   },
   "source": [
    "# 聚类模型"
   ]
  },
  {
   "cell_type": "markdown",
   "metadata": {
    "collapsed": true,
    "hidden": true
   },
   "source": [
    "## K-means"
   ]
  },
  {
   "cell_type": "code",
   "execution_count": null,
   "metadata": {
    "ExecuteTime": {
     "end_time": "2018-04-16T01:29:53.275090Z",
     "start_time": "2018-04-16T01:29:33.555Z"
    },
    "collapsed": true,
    "hidden": true
   },
   "outputs": [],
   "source": [
    "from sklearn import cluster\n",
    "\n",
    "k_means = cluster.KMeans(n_clusters=3)\n",
    "k_means.fit(X.fillna(0)) \n",
    "print(k_means.labels_[::10])"
   ]
  },
  {
   "cell_type": "code",
   "execution_count": null,
   "metadata": {
    "ExecuteTime": {
     "end_time": "2018-04-16T01:29:53.276090Z",
     "start_time": "2018-04-16T01:29:33.558Z"
    },
    "collapsed": true,
    "hidden": true
   },
   "outputs": [],
   "source": [
    "pd.Series(k_means.labels_).value_counts()"
   ]
  },
  {
   "cell_type": "markdown",
   "metadata": {
    "collapsed": true,
    "hidden": true
   },
   "source": [
    "## Affinity Propagation"
   ]
  },
  {
   "cell_type": "code",
   "execution_count": null,
   "metadata": {
    "ExecuteTime": {
     "end_time": "2018-04-16T01:29:53.278090Z",
     "start_time": "2018-04-16T01:29:33.562Z"
    },
    "collapsed": true,
    "hidden": true
   },
   "outputs": [],
   "source": [
    "sys.version"
   ]
  },
  {
   "cell_type": "markdown",
   "metadata": {
    "collapsed": true,
    "hidden": true
   },
   "source": [
    "## Mean Shift"
   ]
  },
  {
   "cell_type": "code",
   "execution_count": null,
   "metadata": {
    "ExecuteTime": {
     "end_time": "2018-04-16T01:29:53.280090Z",
     "start_time": "2018-04-16T01:29:33.566Z"
    },
    "collapsed": true,
    "hidden": true
   },
   "outputs": [],
   "source": [
    "import xgboost"
   ]
  },
  {
   "cell_type": "code",
   "execution_count": null,
   "metadata": {
    "ExecuteTime": {
     "end_time": "2018-04-16T01:29:53.282090Z",
     "start_time": "2018-04-16T01:29:33.569Z"
    },
    "collapsed": true,
    "hidden": true
   },
   "outputs": [],
   "source": [
    "dir(xgboost.XGBRegressor)"
   ]
  },
  {
   "cell_type": "markdown",
   "metadata": {
    "collapsed": true,
    "hidden": true
   },
   "source": [
    "## Spectral clustering"
   ]
  },
  {
   "cell_type": "code",
   "execution_count": null,
   "metadata": {
    "collapsed": true,
    "hidden": true
   },
   "outputs": [],
   "source": []
  },
  {
   "cell_type": "markdown",
   "metadata": {
    "hidden": true
   },
   "source": [
    "## Hierarchical clustering"
   ]
  },
  {
   "cell_type": "code",
   "execution_count": null,
   "metadata": {
    "collapsed": true,
    "hidden": true
   },
   "outputs": [],
   "source": []
  },
  {
   "cell_type": "markdown",
   "metadata": {
    "hidden": true
   },
   "source": [
    "## DBSCAN"
   ]
  },
  {
   "cell_type": "code",
   "execution_count": null,
   "metadata": {
    "collapsed": true,
    "hidden": true
   },
   "outputs": [],
   "source": []
  },
  {
   "cell_type": "markdown",
   "metadata": {
    "hidden": true
   },
   "source": [
    "## Birch"
   ]
  },
  {
   "cell_type": "code",
   "execution_count": null,
   "metadata": {
    "collapsed": true,
    "hidden": true
   },
   "outputs": [],
   "source": []
  },
  {
   "cell_type": "markdown",
   "metadata": {
    "hidden": true
   },
   "source": [
    "## EM（最大期望）"
   ]
  },
  {
   "cell_type": "code",
   "execution_count": null,
   "metadata": {
    "collapsed": true,
    "hidden": true
   },
   "outputs": [],
   "source": []
  },
  {
   "cell_type": "markdown",
   "metadata": {
    "heading_collapsed": true
   },
   "source": [
    "# 聚类模型评价"
   ]
  },
  {
   "cell_type": "markdown",
   "metadata": {
    "collapsed": true,
    "hidden": true
   },
   "source": [
    "## Adjusted Rand index"
   ]
  },
  {
   "cell_type": "code",
   "execution_count": null,
   "metadata": {
    "collapsed": true,
    "hidden": true
   },
   "outputs": [],
   "source": []
  },
  {
   "cell_type": "markdown",
   "metadata": {
    "collapsed": true,
    "hidden": true
   },
   "source": [
    "## Mutual Information based scores"
   ]
  },
  {
   "cell_type": "code",
   "execution_count": null,
   "metadata": {
    "collapsed": true,
    "hidden": true
   },
   "outputs": [],
   "source": []
  },
  {
   "cell_type": "markdown",
   "metadata": {
    "collapsed": true,
    "hidden": true
   },
   "source": [
    "## Homogeneity, completeness and V-measure"
   ]
  },
  {
   "cell_type": "code",
   "execution_count": null,
   "metadata": {
    "collapsed": true,
    "hidden": true
   },
   "outputs": [],
   "source": []
  },
  {
   "cell_type": "markdown",
   "metadata": {
    "collapsed": true,
    "hidden": true
   },
   "source": [
    "## Fowlkes-Mallows scores"
   ]
  },
  {
   "cell_type": "code",
   "execution_count": null,
   "metadata": {
    "collapsed": true,
    "hidden": true
   },
   "outputs": [],
   "source": []
  },
  {
   "cell_type": "markdown",
   "metadata": {
    "hidden": true
   },
   "source": [
    "## Silhouette Coefficient"
   ]
  },
  {
   "cell_type": "code",
   "execution_count": null,
   "metadata": {
    "collapsed": true,
    "hidden": true
   },
   "outputs": [],
   "source": []
  },
  {
   "cell_type": "markdown",
   "metadata": {
    "hidden": true
   },
   "source": [
    "## Calinski-Harabaz Index"
   ]
  },
  {
   "cell_type": "code",
   "execution_count": null,
   "metadata": {
    "collapsed": true,
    "hidden": true
   },
   "outputs": [],
   "source": []
  },
  {
   "cell_type": "markdown",
   "metadata": {
    "collapsed": true
   },
   "source": [
    "# 回归模型"
   ]
  },
  {
   "cell_type": "code",
   "execution_count": 121,
   "metadata": {
    "ExecuteTime": {
     "end_time": "2018-04-16T06:26:26.654892Z",
     "start_time": "2018-04-16T06:26:26.631891Z"
    },
    "collapsed": true
   },
   "outputs": [],
   "source": [
    "def get_modes_result(reg):\n",
    "    reg = reg.fit(X_train, y_train)\n",
    "    y_predict = reg.predict(X_test)\n",
    "    \n",
    "    print('原始值：', [int(x) for x in y_test.tolist()[:30]])\n",
    "    print('预测值：', [int(x) for x in y_predict[:30]])\n",
    "    \n",
    "    print('平均绝对误差（MAE）：', metrics.mean_absolute_error(y_test, y_predict)) \n",
    "    print('平均方差（MSE）：', metrics.mean_squared_error(y_test, y_predict)) \n",
    "    print('R平方值：', metrics.r2_score(y_test, y_predict)) \n",
    "    \n",
    "    return reg"
   ]
  },
  {
   "cell_type": "markdown",
   "metadata": {},
   "source": [
    "## 线性模型"
   ]
  },
  {
   "cell_type": "code",
   "execution_count": 125,
   "metadata": {
    "ExecuteTime": {
     "end_time": "2018-04-16T06:27:05.330105Z",
     "start_time": "2018-04-16T06:27:04.907080Z"
    }
   },
   "outputs": [
    {
     "name": "stdout",
     "output_type": "stream",
     "text": [
      "原始值： [57, 98, 50, 67, 49, 58, 65, 71, 77, 48, 64, 83, 94, 83, 90, 97, 84, 58, 80, 84, 88, 80, 69, 57, 54, 91, 73, 72, 56, 53]\n",
      "预测值： [72, 84, 64, 65, 62, 84, 66, 66, 67, 68, 73, 68, 81, 70, 85, 79, 82, 71, 64, 85, 74, 82, 69, 64, 73, 78, 76, 76, 66, 64]\n",
      "平均绝对误差（MAE）： 10.4491568119\n",
      "平均方差（MSE）： 173.829891719\n",
      "R平方值： 0.273963618643\n"
     ]
    },
    {
     "data": {
      "text/plain": [
       "LinearRegression(copy_X=True, fit_intercept=True, n_jobs=1, normalize=True)"
      ]
     },
     "execution_count": 125,
     "metadata": {},
     "output_type": "execute_result"
    }
   ],
   "source": [
    "reg = linear_model.LinearRegression(normalize=True)\n",
    "get_modes_result(reg)"
   ]
  },
  {
   "cell_type": "code",
   "execution_count": 126,
   "metadata": {
    "ExecuteTime": {
     "end_time": "2018-04-16T06:27:09.092320Z",
     "start_time": "2018-04-16T06:27:08.853306Z"
    }
   },
   "outputs": [
    {
     "name": "stdout",
     "output_type": "stream",
     "text": [
      "原始值： [57, 98, 50, 67, 49, 58, 65, 71, 77, 48, 64, 83, 94, 83, 90, 97, 84, 58, 80, 84, 88, 80, 69, 57, 54, 91, 73, 72, 56, 53]\n",
      "预测值： [76, 79, 65, 66, 63, 83, 67, 68, 66, 65, 74, 70, 74, 73, 84, 76, 82, 74, 65, 88, 78, 74, 71, 64, 71, 82, 79, 77, 65, 66]\n",
      "平均绝对误差（MAE）： 11.0666442613\n",
      "平均方差（MSE）： 190.990595624\n",
      "R平方值： 0.20228840075\n"
     ]
    },
    {
     "data": {
      "text/plain": [
       "Ridge(alpha=0.5, copy_X=True, fit_intercept=True, max_iter=None,\n",
       "   normalize=False, random_state=None, solver='auto', tol=0.001)"
      ]
     },
     "execution_count": 126,
     "metadata": {},
     "output_type": "execute_result"
    }
   ],
   "source": [
    "reg = linear_model.Ridge (alpha = .5)\n",
    "get_modes_result(reg)"
   ]
  },
  {
   "cell_type": "code",
   "execution_count": 127,
   "metadata": {
    "ExecuteTime": {
     "end_time": "2018-04-16T06:27:10.668410Z",
     "start_time": "2018-04-16T06:27:10.555403Z"
    }
   },
   "outputs": [
    {
     "name": "stdout",
     "output_type": "stream",
     "text": [
      "原始值： [57, 98, 50, 67, 49, 58, 65, 71, 77, 48, 64, 83, 94, 83, 90, 97, 84, 58, 80, 84, 88, 80, 69, 57, 54, 91, 73, 72, 56, 53]\n",
      "预测值： [76, 78, 66, 66, 65, 74, 67, 69, 67, 66, 74, 72, 72, 74, 84, 74, 80, 77, 68, 86, 77, 72, 72, 66, 71, 83, 78, 76, 65, 67]\n",
      "平均绝对误差（MAE）： 11.3549638573\n",
      "平均方差（MSE）： 196.613483997\n",
      "R平方值： 0.178803248188\n"
     ]
    },
    {
     "data": {
      "text/plain": [
       "Lasso(alpha=0.1, copy_X=True, fit_intercept=True, max_iter=1000,\n",
       "   normalize=False, positive=False, precompute=False, random_state=None,\n",
       "   selection='cyclic', tol=0.0001, warm_start=False)"
      ]
     },
     "execution_count": 127,
     "metadata": {},
     "output_type": "execute_result"
    }
   ],
   "source": [
    "reg = linear_model.Lasso(alpha = 0.1)\n",
    "get_modes_result(reg)"
   ]
  },
  {
   "cell_type": "code",
   "execution_count": 128,
   "metadata": {
    "ExecuteTime": {
     "end_time": "2018-04-16T06:27:20.414967Z",
     "start_time": "2018-04-16T06:27:20.133951Z"
    }
   },
   "outputs": [
    {
     "name": "stdout",
     "output_type": "stream",
     "text": [
      "原始值： [57, 98, 50, 67, 49, 58, 65, 71, 77, 48, 64, 83, 94, 83, 90, 97, 84, 58, 80, 84, 88, 80, 69, 57, 54, 91, 73, 72, 56, 53]\n",
      "预测值： [73, 77, 73, 73, 73, 76, 73, 73, 74, 74, 74, 73, 77, 73, 76, 76, 75, 73, 73, 75, 73, 75, 73, 73, 75, 73, 73, 73, 74, 73]\n",
      "平均绝对误差（MAE）： 12.1506470099\n",
      "平均方差（MSE）： 217.165644889\n",
      "R平方值： 0.0929629109741\n"
     ]
    },
    {
     "data": {
      "text/plain": [
       "LassoLars(alpha=0.1, copy_X=True, eps=2.2204460492503131e-16,\n",
       "     fit_intercept=True, fit_path=True, max_iter=500, normalize=True,\n",
       "     positive=False, precompute='auto', verbose=False)"
      ]
     },
     "execution_count": 128,
     "metadata": {},
     "output_type": "execute_result"
    }
   ],
   "source": [
    "reg = linear_model.LassoLars(alpha=.1)\n",
    "get_modes_result(reg)"
   ]
  },
  {
   "cell_type": "markdown",
   "metadata": {},
   "source": [
    "## SVM"
   ]
  },
  {
   "cell_type": "code",
   "execution_count": 129,
   "metadata": {
    "ExecuteTime": {
     "end_time": "2018-04-16T06:27:27.409367Z",
     "start_time": "2018-04-16T06:27:27.020345Z"
    }
   },
   "outputs": [
    {
     "name": "stdout",
     "output_type": "stream",
     "text": [
      "原始值： [57, 98, 50, 67, 49, 58, 65, 71, 77, 48, 64, 83, 94, 83, 90, 97, 84, 58, 80, 84, 88, 80, 69, 57, 54, 91, 73, 72, 56, 53]\n",
      "预测值： [73, 80, 70, 70, 67, 68, 76, 80, 67, 73, 77, 78, 82, 76, 80, 78, 73, 78, 76, 78, 83, 78, 78, 63, 77, 81, 69, 77, 66, 69]\n",
      "平均绝对误差（MAE）： 11.8060777896\n",
      "平均方差（MSE）： 208.497979734\n",
      "R平方值： 0.129165201509\n"
     ]
    }
   ],
   "source": [
    "reg = svm.SVR()\n",
    "reg = get_modes_result(reg)"
   ]
  },
  {
   "cell_type": "code",
   "execution_count": 130,
   "metadata": {
    "ExecuteTime": {
     "end_time": "2018-04-16T06:27:28.961456Z",
     "start_time": "2018-04-16T06:27:28.950456Z"
    }
   },
   "outputs": [
    {
     "data": {
      "text/plain": [
       "<bound method BaseEstimator.get_params of SVR(C=1.0, cache_size=200, coef0=0.0, degree=3, epsilon=0.1, gamma='auto',\n",
       "  kernel='rbf', max_iter=-1, shrinking=True, tol=0.001, verbose=False)>"
      ]
     },
     "execution_count": 130,
     "metadata": {},
     "output_type": "execute_result"
    }
   ],
   "source": [
    "reg.class_weight_\n",
    "reg.class_weight_\n",
    "reg.get_params"
   ]
  },
  {
   "cell_type": "code",
   "execution_count": 131,
   "metadata": {
    "ExecuteTime": {
     "end_time": "2018-04-16T06:27:30.899567Z",
     "start_time": "2018-04-16T06:27:30.890567Z"
    }
   },
   "outputs": [
    {
     "data": {
      "text/plain": [
       "['C',\n",
       " '__abstractmethods__',\n",
       " '__class__',\n",
       " '__delattr__',\n",
       " '__dict__',\n",
       " '__dir__',\n",
       " '__doc__',\n",
       " '__eq__',\n",
       " '__format__',\n",
       " '__ge__',\n",
       " '__getattribute__',\n",
       " '__getstate__',\n",
       " '__gt__',\n",
       " '__hash__',\n",
       " '__init__',\n",
       " '__init_subclass__',\n",
       " '__le__',\n",
       " '__lt__',\n",
       " '__module__',\n",
       " '__ne__',\n",
       " '__new__',\n",
       " '__reduce__',\n",
       " '__reduce_ex__',\n",
       " '__repr__',\n",
       " '__setattr__',\n",
       " '__setstate__',\n",
       " '__sizeof__',\n",
       " '__str__',\n",
       " '__subclasshook__',\n",
       " '__weakref__',\n",
       " '_abc_cache',\n",
       " '_abc_negative_cache',\n",
       " '_abc_negative_cache_version',\n",
       " '_abc_registry',\n",
       " '_compute_kernel',\n",
       " '_decision_function',\n",
       " '_dense_decision_function',\n",
       " '_dense_fit',\n",
       " '_dense_predict',\n",
       " '_dual_coef_',\n",
       " '_estimator_type',\n",
       " '_gamma',\n",
       " '_get_coef',\n",
       " '_get_param_names',\n",
       " '_impl',\n",
       " '_intercept_',\n",
       " '_pairwise',\n",
       " '_sparse',\n",
       " '_sparse_decision_function',\n",
       " '_sparse_fit',\n",
       " '_sparse_kernels',\n",
       " '_sparse_predict',\n",
       " '_validate_for_predict',\n",
       " '_validate_targets',\n",
       " '_warn_from_fit_status',\n",
       " 'cache_size',\n",
       " 'class_weight',\n",
       " 'class_weight_',\n",
       " 'coef0',\n",
       " 'coef_',\n",
       " 'degree',\n",
       " 'dual_coef_',\n",
       " 'epsilon',\n",
       " 'fit',\n",
       " 'fit_status_',\n",
       " 'gamma',\n",
       " 'get_params',\n",
       " 'intercept_',\n",
       " 'kernel',\n",
       " 'max_iter',\n",
       " 'n_support_',\n",
       " 'nu',\n",
       " 'predict',\n",
       " 'probA_',\n",
       " 'probB_',\n",
       " 'probability',\n",
       " 'random_state',\n",
       " 'score',\n",
       " 'set_params',\n",
       " 'shape_fit_',\n",
       " 'shrinking',\n",
       " 'support_',\n",
       " 'support_vectors_',\n",
       " 'tol',\n",
       " 'verbose']"
      ]
     },
     "execution_count": 131,
     "metadata": {},
     "output_type": "execute_result"
    }
   ],
   "source": [
    "dir(reg)"
   ]
  },
  {
   "cell_type": "markdown",
   "metadata": {
    "collapsed": true
   },
   "source": [
    "## 朴素贝叶斯"
   ]
  },
  {
   "cell_type": "code",
   "execution_count": 132,
   "metadata": {
    "ExecuteTime": {
     "end_time": "2018-04-16T06:27:38.556005Z",
     "start_time": "2018-04-16T06:27:38.483001Z"
    }
   },
   "outputs": [
    {
     "name": "stdout",
     "output_type": "stream",
     "text": [
      "原始值： [57, 98, 50, 67, 49, 58, 65, 71, 77, 48, 64, 83, 94, 83, 90, 97, 84, 58, 80, 84, 88, 80, 69, 57, 54, 91, 73, 72, 56, 53]\n",
      "预测值： [55, 90, 50, 0, 49, 88, 55, 55, 54, 49, 55, 60, 90, 0, 78, 78, 0, 55, 52, 78, 94, 94, 78, 51, 54, 0, 55, 0, 51, 55]\n",
      "平均绝对误差（MAE）： 26.6017699115\n",
      "平均方差（MSE）： 1527.88495575\n",
      "R平方值： -5.38152652248\n"
     ]
    },
    {
     "data": {
      "text/plain": [
       "GaussianNB(priors=None)"
      ]
     },
     "execution_count": 132,
     "metadata": {},
     "output_type": "execute_result"
    }
   ],
   "source": [
    "reg = naive_bayes.GaussianNB()\n",
    "get_modes_result(reg)"
   ]
  },
  {
   "cell_type": "markdown",
   "metadata": {},
   "source": [
    "## 决策树"
   ]
  },
  {
   "cell_type": "code",
   "execution_count": 133,
   "metadata": {
    "ExecuteTime": {
     "end_time": "2018-04-16T06:27:41.153154Z",
     "start_time": "2018-04-16T06:27:41.043147Z"
    }
   },
   "outputs": [
    {
     "name": "stdout",
     "output_type": "stream",
     "text": [
      "原始值： [57, 98, 50, 67, 49, 58, 65, 71, 77, 48, 64, 83, 94, 83, 90, 97, 84, 58, 80, 84, 88, 80, 69, 57, 54, 91, 73, 72, 56, 53]\n",
      "预测值： [64, 82, 88, 80, 47, 92, 58, 62, 58, 48, 79, 71, 71, 83, 93, 93, 91, 89, 77, 84, 75, 71, 60, 62, 67, 82, 58, 93, 67, 71]\n",
      "平均绝对误差（MAE）： 11.2477876106\n",
      "平均方差（MSE）： 241.367256637\n",
      "R平方值： -0.00812011015004\n"
     ]
    },
    {
     "data": {
      "text/plain": [
       "DecisionTreeRegressor(criterion='mse', max_depth=None, max_features=None,\n",
       "           max_leaf_nodes=None, min_impurity_decrease=0.0,\n",
       "           min_impurity_split=None, min_samples_leaf=1,\n",
       "           min_samples_split=2, min_weight_fraction_leaf=0.0,\n",
       "           presort=False, random_state=None, splitter='best')"
      ]
     },
     "execution_count": 133,
     "metadata": {},
     "output_type": "execute_result"
    }
   ],
   "source": [
    "reg = tree.DecisionTreeRegressor()\n",
    "get_modes_result(reg)"
   ]
  },
  {
   "cell_type": "markdown",
   "metadata": {},
   "source": [
    "# 回归模型评价"
   ]
  },
  {
   "cell_type": "code",
   "execution_count": null,
   "metadata": {
    "ExecuteTime": {
     "end_time": "2018-04-13T06:35:00.813519Z",
     "start_time": "2018-04-13T06:35:00.795518Z"
    },
    "collapsed": true
   },
   "outputs": [],
   "source": []
  }
 ],
 "metadata": {
  "kernelspec": {
   "display_name": "Python 3",
   "language": "python",
   "name": "python3"
  },
  "language_info": {
   "codemirror_mode": {
    "name": "ipython",
    "version": 3
   },
   "file_extension": ".py",
   "mimetype": "text/x-python",
   "name": "python",
   "nbconvert_exporter": "python",
   "pygments_lexer": "ipython3",
   "version": "3.6.3"
  },
  "toc": {
   "nav_menu": {},
   "number_sections": true,
   "sideBar": true,
   "skip_h1_title": false,
   "title_cell": "Table of Contents",
   "title_sidebar": "Contents",
   "toc_cell": false,
   "toc_position": {
    "height": "741px",
    "left": "1295px",
    "top": "160px",
    "width": "352px"
   },
   "toc_section_display": true,
   "toc_window_display": true
  },
  "varInspector": {
   "cols": {
    "lenName": 16,
    "lenType": 16,
    "lenVar": 40
   },
   "kernels_config": {
    "python": {
     "delete_cmd_postfix": "",
     "delete_cmd_prefix": "del ",
     "library": "var_list.py",
     "varRefreshCmd": "print(var_dic_list())"
    },
    "r": {
     "delete_cmd_postfix": ") ",
     "delete_cmd_prefix": "rm(",
     "library": "var_list.r",
     "varRefreshCmd": "cat(var_dic_list()) "
    }
   },
   "types_to_exclude": [
    "module",
    "function",
    "builtin_function_or_method",
    "instance",
    "_Feature"
   ],
   "window_display": false
  }
 },
 "nbformat": 4,
 "nbformat_minor": 2
}
